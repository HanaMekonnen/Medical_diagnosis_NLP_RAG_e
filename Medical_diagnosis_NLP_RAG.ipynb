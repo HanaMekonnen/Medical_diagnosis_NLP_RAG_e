{
  "cells": [
    {
      "cell_type": "markdown",
      "metadata": {
        "id": "3CNz35ia6Bz3"
      },
      "source": [
        "## Problem Statement"
      ]
    },
    {
      "cell_type": "markdown",
      "metadata": {
        "id": "CkRbhMJH6Bz3"
      },
      "source": [
        "### Business Context"
      ]
    },
    {
      "cell_type": "markdown",
      "metadata": {
        "id": "3PBm5xaj6Bz3"
      },
      "source": [
        "The healthcare industry is rapidly evolving, with professionals facing increasing challenges in managing vast volumes of medical data while delivering accurate and timely diagnoses. The need for quick access to comprehensive, reliable, and up-to-date medical knowledge is critical for improving patient outcomes and ensuring informed decision-making in a fast-paced environment.\n",
        "\n",
        "Healthcare professionals often encounter information overload, struggling to sift through extensive research and data to create accurate diagnoses and treatment plans. This challenge is amplified by the need for efficiency, particularly in emergencies, where time-sensitive decisions are vital. Furthermore, access to trusted, current medical information from renowned manuals and research papers is essential for maintaining high standards of care.\n",
        "\n",
        "To address these challenges, healthcare centers can focus on integrating systems that streamline access to medical knowledge, provide tools to support quick decision-making, and enhance efficiency. Leveraging centralized knowledge platforms and ensuring healthcare providers have continuous access to reliable resources can significantly improve patient care and operational effectiveness."
      ]
    },
    {
      "cell_type": "markdown",
      "metadata": {
        "id": "1xDPsqvO6Bz5"
      },
      "source": [
        "**Common Questions to Answer**\n",
        "\n",
        "**1. Diagnostic Assistance**: \"What are the common symptoms and treatments for pulmonary embolism?\"\n",
        "\n",
        "**2. Drug Information**: \"Can you provide the trade names of medications used for treating hypertension?\"\n",
        "\n",
        "**3. Treatment Plans**: \"What are the first-line options and alternatives for managing rheumatoid arthritis?\"\n",
        "\n",
        "**4. Specialty Knowledge**: \"What are the diagnostic steps for suspected endocrine disorders?\"\n",
        "\n",
        "**5. Critical Care Protocols**: \"What is the protocol for managing sepsis in a critical care unit?\""
      ]
    },
    {
      "cell_type": "markdown",
      "metadata": {
        "id": "CARPKFwm6Bz4"
      },
      "source": [
        "### Objective"
      ]
    },
    {
      "cell_type": "markdown",
      "metadata": {
        "id": "dOElOEXq6Bz4"
      },
      "source": [
        "As an AI specialist, your task is to develop a RAG-based AI solution using renowned medical manuals to address healthcare challenges. The objective is to **understand** issues like information overload, **apply** AI techniques to streamline decision-making, **analyze** its impact on diagnostics and patient outcomes, **evaluate** its potential to standardize care practices, and **create** a functional prototype demonstrating its feasibility and effectiveness."
      ]
    },
    {
      "cell_type": "markdown",
      "metadata": {
        "id": "by9EvAnkSpZf"
      },
      "source": [
        "### Data Description"
      ]
    },
    {
      "cell_type": "markdown",
      "metadata": {
        "id": "Jw5LievCSru2"
      },
      "source": [
        "The **Merck Manuals** are medical references published by the American pharmaceutical company Merck & Co., that cover a wide range of medical topics, including disorders, tests, diagnoses, and drugs. The manuals have been published since 1899, when Merck & Co. was still a subsidiary of the German company Merck.\n",
        "\n",
        "The manual is provided as a PDF with over 4,000 pages divided into 23 sections."
      ]
    },
    {
      "cell_type": "markdown",
      "metadata": {
        "id": "lnwETBOE6Bz5"
      },
      "source": [
        "## Installing and Importing Necessary Libraries and Dependencies"
      ]
    },
    {
      "cell_type": "code",
      "execution_count": 1,
      "metadata": {
        "colab": {
          "base_uri": "https://localhost:8080/"
        },
        "id": "q4GgLhZhUM4V",
        "outputId": "b6b95d43-a209-4a72-e8fd-8800165624e2"
      },
      "outputs": [
        {
          "output_type": "stream",
          "name": "stdout",
          "text": [
            "\u001b[?25l     \u001b[90m━━━━━━━━━━━━━━━━━━━━━━━━━━━━━━━━━━━━━━━━\u001b[0m \u001b[32m0.0/1.8 MB\u001b[0m \u001b[31m?\u001b[0m eta \u001b[36m-:--:--\u001b[0m\r\u001b[2K     \u001b[91m━━━━━━━\u001b[0m\u001b[90m╺\u001b[0m\u001b[90m━━━━━━━━━━━━━━━━━━━━━━━━━━━━━━━━\u001b[0m \u001b[32m0.3/1.8 MB\u001b[0m \u001b[31m11.0 MB/s\u001b[0m eta \u001b[36m0:00:01\u001b[0m\r\u001b[2K     \u001b[90m━━━━━━━━━━━━━━━━━━━━━━━━━━━━━━━━━━━━━━━━\u001b[0m \u001b[32m1.8/1.8 MB\u001b[0m \u001b[31m32.9 MB/s\u001b[0m eta \u001b[36m0:00:00\u001b[0m\n",
            "\u001b[?25h  Installing build dependencies ... \u001b[?25l\u001b[?25hdone\n",
            "  Getting requirements to build wheel ... \u001b[?25l\u001b[?25hdone\n",
            "  Preparing metadata (pyproject.toml) ... \u001b[?25l\u001b[?25hdone\n",
            "\u001b[2K     \u001b[90m━━━━━━━━━━━━━━━━━━━━━━━━━━━━━━━━━━━━━━━\u001b[0m \u001b[32m62.0/62.0 kB\u001b[0m \u001b[31m248.8 MB/s\u001b[0m eta \u001b[36m0:00:00\u001b[0m\n",
            "\u001b[2K   \u001b[90m━━━━━━━━━━━━━━━━━━━━━━━━━━━━━━━━━━━━━━━━\u001b[0m \u001b[32m45.5/45.5 kB\u001b[0m \u001b[31m260.0 MB/s\u001b[0m eta \u001b[36m0:00:00\u001b[0m\n",
            "\u001b[2K   \u001b[90m━━━━━━━━━━━━━━━━━━━━━━━━━━━━━━━━━━━━━━━━\u001b[0m \u001b[32m16.8/16.8 MB\u001b[0m \u001b[31m270.7 MB/s\u001b[0m eta \u001b[36m0:00:00\u001b[0m\n",
            "\u001b[2K   \u001b[90m━━━━━━━━━━━━━━━━━━━━━━━━━━━━━━━━━━━━━━━━\u001b[0m \u001b[32m45.8/45.8 kB\u001b[0m \u001b[31m296.5 MB/s\u001b[0m eta \u001b[36m0:00:00\u001b[0m\n",
            "\u001b[?25h  Building wheel for llama-cpp-python (pyproject.toml) ... \u001b[?25l\u001b[?25hdone\n",
            "\u001b[31mERROR: pip's dependency resolver does not currently take into account all the packages that are installed. This behaviour is the source of the following dependency conflicts.\n",
            "numba 0.60.0 requires numpy<2.1,>=1.22, but you have numpy 2.2.6 which is incompatible.\n",
            "tensorflow 2.18.0 requires numpy<2.1.0,>=1.26.0, but you have numpy 2.2.6 which is incompatible.\n",
            "torch 2.6.0+cu124 requires nvidia-cublas-cu12==12.4.5.8; platform_system == \"Linux\" and platform_machine == \"x86_64\", but you have nvidia-cublas-cu12 12.5.3.2 which is incompatible.\n",
            "torch 2.6.0+cu124 requires nvidia-cuda-cupti-cu12==12.4.127; platform_system == \"Linux\" and platform_machine == \"x86_64\", but you have nvidia-cuda-cupti-cu12 12.5.82 which is incompatible.\n",
            "torch 2.6.0+cu124 requires nvidia-cuda-nvrtc-cu12==12.4.127; platform_system == \"Linux\" and platform_machine == \"x86_64\", but you have nvidia-cuda-nvrtc-cu12 12.5.82 which is incompatible.\n",
            "torch 2.6.0+cu124 requires nvidia-cuda-runtime-cu12==12.4.127; platform_system == \"Linux\" and platform_machine == \"x86_64\", but you have nvidia-cuda-runtime-cu12 12.5.82 which is incompatible.\n",
            "torch 2.6.0+cu124 requires nvidia-cudnn-cu12==9.1.0.70; platform_system == \"Linux\" and platform_machine == \"x86_64\", but you have nvidia-cudnn-cu12 9.3.0.75 which is incompatible.\n",
            "torch 2.6.0+cu124 requires nvidia-cufft-cu12==11.2.1.3; platform_system == \"Linux\" and platform_machine == \"x86_64\", but you have nvidia-cufft-cu12 11.2.3.61 which is incompatible.\n",
            "torch 2.6.0+cu124 requires nvidia-curand-cu12==10.3.5.147; platform_system == \"Linux\" and platform_machine == \"x86_64\", but you have nvidia-curand-cu12 10.3.6.82 which is incompatible.\n",
            "torch 2.6.0+cu124 requires nvidia-cusolver-cu12==11.6.1.9; platform_system == \"Linux\" and platform_machine == \"x86_64\", but you have nvidia-cusolver-cu12 11.6.3.83 which is incompatible.\n",
            "torch 2.6.0+cu124 requires nvidia-cusparse-cu12==12.3.1.170; platform_system == \"Linux\" and platform_machine == \"x86_64\", but you have nvidia-cusparse-cu12 12.5.1.3 which is incompatible.\n",
            "torch 2.6.0+cu124 requires nvidia-nvjitlink-cu12==12.4.127; platform_system == \"Linux\" and platform_machine == \"x86_64\", but you have nvidia-nvjitlink-cu12 12.5.82 which is incompatible.\u001b[0m\u001b[31m\n",
            "\u001b[0m"
          ]
        }
      ],
      "source": [
        "# Installation for GPU llama-cpp-python\n",
        "# uncomment and run the following code in case GPU is being used\n",
        "!CMAKE_ARGS=\"-DLLAMA_CUBLAS=on\" FORCE_CMAKE=1 pip install llama-cpp-python==0.1.85 --force-reinstall --no-cache-dir -q\n",
        "\n",
        "# Installation for CPU llama-cpp-python\n",
        "# uncomment and run the following code in case GPU is not being used\n",
        "# !CMAKE_ARGS=\"-DLLAMA_CUBLAS=off\" FORCE_CMAKE=1 pip install llama-cpp-python==0.1.85 --force-reinstall --no-cache-dir -q"
      ]
    },
    {
      "cell_type": "code",
      "execution_count": 2,
      "metadata": {
        "colab": {
          "base_uri": "https://localhost:8080/"
        },
        "id": "0VOckDVkWGei",
        "outputId": "f5ac42e6-78f1-426e-ab62-588bd16d7f45"
      },
      "outputs": [
        {
          "output_type": "stream",
          "name": "stdout",
          "text": [
            "\u001b[?25l     \u001b[90m━━━━━━━━━━━━━━━━━━━━━━━━━━━━━━━━━━━━━━━━\u001b[0m \u001b[32m0.0/67.3 kB\u001b[0m \u001b[31m?\u001b[0m eta \u001b[36m-:--:--\u001b[0m\r\u001b[2K     \u001b[90m━━━━━━━━━━━━━━━━━━━━━━━━━━━━━━━━━━━━━━━━\u001b[0m \u001b[32m67.3/67.3 kB\u001b[0m \u001b[31m6.8 MB/s\u001b[0m eta \u001b[36m0:00:00\u001b[0m\n",
            "\u001b[?25h  Installing build dependencies ... \u001b[?25l\u001b[?25hdone\n",
            "  Getting requirements to build wheel ... \u001b[?25l\u001b[?25hdone\n",
            "  Preparing metadata (pyproject.toml) ... \u001b[?25l\u001b[?25hdone\n",
            "\u001b[2K     \u001b[90m━━━━━━━━━━━━━━━━━━━━━━━━━━━━━━━━━━━━━━━━\u001b[0m \u001b[32m40.2/40.2 kB\u001b[0m \u001b[31m3.7 MB/s\u001b[0m eta \u001b[36m0:00:00\u001b[0m\n",
            "\u001b[2K     \u001b[90m━━━━━━━━━━━━━━━━━━━━━━━━━━━━━━━━━━━━━━━━\u001b[0m \u001b[32m40.2/40.2 kB\u001b[0m \u001b[31m3.5 MB/s\u001b[0m eta \u001b[36m0:00:00\u001b[0m\n",
            "\u001b[2K     \u001b[90m━━━━━━━━━━━━━━━━━━━━━━━━━━━━━━━━━━━━━━━━\u001b[0m \u001b[32m44.0/44.0 kB\u001b[0m \u001b[31m3.9 MB/s\u001b[0m eta \u001b[36m0:00:00\u001b[0m\n",
            "\u001b[2K     \u001b[90m━━━━━━━━━━━━━━━━━━━━━━━━━━━━━━━━━━━━━━━━\u001b[0m \u001b[32m44.4/44.4 kB\u001b[0m \u001b[31m4.1 MB/s\u001b[0m eta \u001b[36m0:00:00\u001b[0m\n",
            "\u001b[2K     \u001b[90m━━━━━━━━━━━━━━━━━━━━━━━━━━━━━━━━━━━━━━━━\u001b[0m \u001b[32m44.4/44.4 kB\u001b[0m \u001b[31m3.8 MB/s\u001b[0m eta \u001b[36m0:00:00\u001b[0m\n",
            "\u001b[2K     \u001b[90m━━━━━━━━━━━━━━━━━━━━━━━━━━━━━━━━━━━━━━━━\u001b[0m \u001b[32m44.4/44.4 kB\u001b[0m \u001b[31m3.4 MB/s\u001b[0m eta \u001b[36m0:00:00\u001b[0m\n",
            "\u001b[2K     \u001b[90m━━━━━━━━━━━━━━━━━━━━━━━━━━━━━━━━━━━━━━━━\u001b[0m \u001b[32m44.4/44.4 kB\u001b[0m \u001b[31m3.9 MB/s\u001b[0m eta \u001b[36m0:00:00\u001b[0m\n",
            "\u001b[2K     \u001b[90m━━━━━━━━━━━━━━━━━━━━━━━━━━━━━━━━━━━━━━━━\u001b[0m \u001b[32m44.1/44.1 kB\u001b[0m \u001b[31m3.8 MB/s\u001b[0m eta \u001b[36m0:00:00\u001b[0m\n",
            "\u001b[2K     \u001b[90m━━━━━━━━━━━━━━━━━━━━━━━━━━━━━━━━━━━━━━━━\u001b[0m \u001b[32m43.5/43.5 kB\u001b[0m \u001b[31m3.8 MB/s\u001b[0m eta \u001b[36m0:00:00\u001b[0m\n",
            "\u001b[2K     \u001b[90m━━━━━━━━━━━━━━━━━━━━━━━━━━━━━━━━━━━━━━━━\u001b[0m \u001b[32m44.1/44.1 kB\u001b[0m \u001b[31m3.5 MB/s\u001b[0m eta \u001b[36m0:00:00\u001b[0m\n",
            "\u001b[2K   \u001b[90m━━━━━━━━━━━━━━━━━━━━━━━━━━━━━━━━━━━━━━━━\u001b[0m \u001b[32m401.7/401.7 kB\u001b[0m \u001b[31m19.4 MB/s\u001b[0m eta \u001b[36m0:00:00\u001b[0m\n",
            "\u001b[2K   \u001b[90m━━━━━━━━━━━━━━━━━━━━━━━━━━━━━━━━━━━━━━━━\u001b[0m \u001b[32m12.0/12.0 MB\u001b[0m \u001b[31m126.9 MB/s\u001b[0m eta \u001b[36m0:00:00\u001b[0m\n",
            "\u001b[2K   \u001b[90m━━━━━━━━━━━━━━━━━━━━━━━━━━━━━━━━━━━━━━━━\u001b[0m \u001b[32m1.8/1.8 MB\u001b[0m \u001b[31m82.3 MB/s\u001b[0m eta \u001b[36m0:00:00\u001b[0m\n",
            "\u001b[2K   \u001b[90m━━━━━━━━━━━━━━━━━━━━━━━━━━━━━━━━━━━━━━━━\u001b[0m \u001b[32m284.0/284.0 kB\u001b[0m \u001b[31m27.2 MB/s\u001b[0m eta \u001b[36m0:00:00\u001b[0m\n",
            "\u001b[2K   \u001b[90m━━━━━━━━━━━━━━━━━━━━━━━━━━━━━━━━━━━━━━━━\u001b[0m \u001b[32m20.0/20.0 MB\u001b[0m \u001b[31m106.8 MB/s\u001b[0m eta \u001b[36m0:00:00\u001b[0m\n",
            "\u001b[2K   \u001b[90m━━━━━━━━━━━━━━━━━━━━━━━━━━━━━━━━━━━━━━━━\u001b[0m \u001b[32m802.4/802.4 kB\u001b[0m \u001b[31m56.7 MB/s\u001b[0m eta \u001b[36m0:00:00\u001b[0m\n",
            "\u001b[2K   \u001b[90m━━━━━━━━━━━━━━━━━━━━━━━━━━━━━━━━━━━━━━━━\u001b[0m \u001b[32m1.6/1.6 MB\u001b[0m \u001b[31m80.6 MB/s\u001b[0m eta \u001b[36m0:00:00\u001b[0m\n",
            "\u001b[2K   \u001b[90m━━━━━━━━━━━━━━━━━━━━━━━━━━━━━━━━━━━━━━━━\u001b[0m \u001b[32m509.0/509.0 kB\u001b[0m \u001b[31m41.2 MB/s\u001b[0m eta \u001b[36m0:00:00\u001b[0m\n",
            "\u001b[2K   \u001b[90m━━━━━━━━━━━━━━━━━━━━━━━━━━━━━━━━━━━━━━━━\u001b[0m \u001b[32m132.8/132.8 kB\u001b[0m \u001b[31m16.4 MB/s\u001b[0m eta \u001b[36m0:00:00\u001b[0m\n",
            "\u001b[2K   \u001b[90m━━━━━━━━━━━━━━━━━━━━━━━━━━━━━━━━━━━━━━━━\u001b[0m \u001b[32m18.2/18.2 MB\u001b[0m \u001b[31m111.1 MB/s\u001b[0m eta \u001b[36m0:00:00\u001b[0m\n",
            "\u001b[2K   \u001b[90m━━━━━━━━━━━━━━━━━━━━━━━━━━━━━━━━━━━━━━━━\u001b[0m \u001b[32m2.4/2.4 MB\u001b[0m \u001b[31m93.7 MB/s\u001b[0m eta \u001b[36m0:00:00\u001b[0m\n",
            "\u001b[2K   \u001b[90m━━━━━━━━━━━━━━━━━━━━━━━━━━━━━━━━━━━━━━━━\u001b[0m \u001b[32m284.2/284.2 kB\u001b[0m \u001b[31m27.3 MB/s\u001b[0m eta \u001b[36m0:00:00\u001b[0m\n",
            "\u001b[2K   \u001b[90m━━━━━━━━━━━━━━━━━━━━━━━━━━━━━━━━━━━━━━━━\u001b[0m \u001b[32m95.2/95.2 kB\u001b[0m \u001b[31m9.6 MB/s\u001b[0m eta \u001b[36m0:00:00\u001b[0m\n",
            "\u001b[2K   \u001b[90m━━━━━━━━━━━━━━━━━━━━━━━━━━━━━━━━━━━━━━━━\u001b[0m \u001b[32m2.0/2.0 MB\u001b[0m \u001b[31m75.3 MB/s\u001b[0m eta \u001b[36m0:00:00\u001b[0m\n",
            "\u001b[2K   \u001b[90m━━━━━━━━━━━━━━━━━━━━━━━━━━━━━━━━━━━━━━━━\u001b[0m \u001b[32m241.2/241.2 kB\u001b[0m \u001b[31m22.0 MB/s\u001b[0m eta \u001b[36m0:00:00\u001b[0m\n",
            "\u001b[2K   \u001b[90m━━━━━━━━━━━━━━━━━━━━━━━━━━━━━━━━━━━━━━━━\u001b[0m \u001b[32m55.4/55.4 kB\u001b[0m \u001b[31m4.5 MB/s\u001b[0m eta \u001b[36m0:00:00\u001b[0m\n",
            "\u001b[2K   \u001b[90m━━━━━━━━━━━━━━━━━━━━━━━━━━━━━━━━━━━━━━━━\u001b[0m \u001b[32m101.6/101.6 kB\u001b[0m \u001b[31m11.5 MB/s\u001b[0m eta \u001b[36m0:00:00\u001b[0m\n",
            "\u001b[2K   \u001b[90m━━━━━━━━━━━━━━━━━━━━━━━━━━━━━━━━━━━━━━━━\u001b[0m \u001b[32m16.4/16.4 MB\u001b[0m \u001b[31m17.2 MB/s\u001b[0m eta \u001b[36m0:00:00\u001b[0m\n",
            "\u001b[2K   \u001b[90m━━━━━━━━━━━━━━━━━━━━━━━━━━━━━━━━━━━━━━━━\u001b[0m \u001b[32m65.8/65.8 kB\u001b[0m \u001b[31m5.4 MB/s\u001b[0m eta \u001b[36m0:00:00\u001b[0m\n",
            "\u001b[2K   \u001b[90m━━━━━━━━━━━━━━━━━━━━━━━━━━━━━━━━━━━━━━━━\u001b[0m \u001b[32m55.9/55.9 kB\u001b[0m \u001b[31m5.1 MB/s\u001b[0m eta \u001b[36m0:00:00\u001b[0m\n",
            "\u001b[2K   \u001b[90m━━━━━━━━━━━━━━━━━━━━━━━━━━━━━━━━━━━━━━━━\u001b[0m \u001b[32m194.9/194.9 kB\u001b[0m \u001b[31m18.4 MB/s\u001b[0m eta \u001b[36m0:00:00\u001b[0m\n",
            "\u001b[2K   \u001b[90m━━━━━━━━━━━━━━━━━━━━━━━━━━━━━━━━━━━━━━━━\u001b[0m \u001b[32m119.0/119.0 kB\u001b[0m \u001b[31m12.4 MB/s\u001b[0m eta \u001b[36m0:00:00\u001b[0m\n",
            "\u001b[2K   \u001b[90m━━━━━━━━━━━━━━━━━━━━━━━━━━━━━━━━━━━━━━━━\u001b[0m \u001b[32m53.0/53.0 kB\u001b[0m \u001b[31m4.1 MB/s\u001b[0m eta \u001b[36m0:00:00\u001b[0m\n",
            "\u001b[2K   \u001b[90m━━━━━━━━━━━━━━━━━━━━━━━━━━━━━━━━━━━━━━━━\u001b[0m \u001b[32m96.7/96.7 kB\u001b[0m \u001b[31m9.1 MB/s\u001b[0m eta \u001b[36m0:00:00\u001b[0m\n",
            "\u001b[2K   \u001b[90m━━━━━━━━━━━━━━━━━━━━━━━━━━━━━━━━━━━━━━━━\u001b[0m \u001b[32m6.6/6.6 MB\u001b[0m \u001b[31m92.5 MB/s\u001b[0m eta \u001b[36m0:00:00\u001b[0m\n",
            "\u001b[2K   \u001b[90m━━━━━━━━━━━━━━━━━━━━━━━━━━━━━━━━━━━━━━━━\u001b[0m \u001b[32m363.4/363.4 MB\u001b[0m \u001b[31m3.9 MB/s\u001b[0m eta \u001b[36m0:00:00\u001b[0m\n",
            "\u001b[2K   \u001b[90m━━━━━━━━━━━━━━━━━━━━━━━━━━━━━━━━━━━━━━━━\u001b[0m \u001b[32m13.8/13.8 MB\u001b[0m \u001b[31m68.1 MB/s\u001b[0m eta \u001b[36m0:00:00\u001b[0m\n",
            "\u001b[2K   \u001b[90m━━━━━━━━━━━━━━━━━━━━━━━━━━━━━━━━━━━━━━━━\u001b[0m \u001b[32m24.6/24.6 MB\u001b[0m \u001b[31m36.2 MB/s\u001b[0m eta \u001b[36m0:00:00\u001b[0m\n",
            "\u001b[2K   \u001b[90m━━━━━━━━━━━━━━━━━━━━━━━━━━━━━━━━━━━━━━━━\u001b[0m \u001b[32m883.7/883.7 kB\u001b[0m \u001b[31m50.3 MB/s\u001b[0m eta \u001b[36m0:00:00\u001b[0m\n",
            "\u001b[2K   \u001b[90m━━━━━━━━━━━━━━━━━━━━━━━━━━━━━━━━━━━━━━━━\u001b[0m \u001b[32m664.8/664.8 MB\u001b[0m \u001b[31m1.5 MB/s\u001b[0m eta \u001b[36m0:00:00\u001b[0m\n",
            "\u001b[2K   \u001b[90m━━━━━━━━━━━━━━━━━━━━━━━━━━━━━━━━━━━━━━━━\u001b[0m \u001b[32m211.5/211.5 MB\u001b[0m \u001b[31m6.2 MB/s\u001b[0m eta \u001b[36m0:00:00\u001b[0m\n",
            "\u001b[2K   \u001b[90m━━━━━━━━━━━━━━━━━━━━━━━━━━━━━━━━━━━━━━━━\u001b[0m \u001b[32m56.3/56.3 MB\u001b[0m \u001b[31m10.8 MB/s\u001b[0m eta \u001b[36m0:00:00\u001b[0m\n",
            "\u001b[2K   \u001b[90m━━━━━━━━━━━━━━━━━━━━━━━━━━━━━━━━━━━━━━━━\u001b[0m \u001b[32m127.9/127.9 MB\u001b[0m \u001b[31m8.3 MB/s\u001b[0m eta \u001b[36m0:00:00\u001b[0m\n",
            "\u001b[2K   \u001b[90m━━━━━━━━━━━━━━━━━━━━━━━━━━━━━━━━━━━━━━━━\u001b[0m \u001b[32m207.5/207.5 MB\u001b[0m \u001b[31m7.0 MB/s\u001b[0m eta \u001b[36m0:00:00\u001b[0m\n",
            "\u001b[2K   \u001b[90m━━━━━━━━━━━━━━━━━━━━━━━━━━━━━━━━━━━━━━━━\u001b[0m \u001b[32m21.1/21.1 MB\u001b[0m \u001b[31m72.6 MB/s\u001b[0m eta \u001b[36m0:00:00\u001b[0m\n",
            "\u001b[2K   \u001b[90m━━━━━━━━━━━━━━━━━━━━━━━━━━━━━━━━━━━━━━━━\u001b[0m \u001b[32m10.0/10.0 MB\u001b[0m \u001b[31m88.3 MB/s\u001b[0m eta \u001b[36m0:00:00\u001b[0m\n",
            "\u001b[2K   \u001b[90m━━━━━━━━━━━━━━━━━━━━━━━━━━━━━━━━━━━━━━━━\u001b[0m \u001b[32m3.0/3.0 MB\u001b[0m \u001b[31m65.1 MB/s\u001b[0m eta \u001b[36m0:00:00\u001b[0m\n",
            "\u001b[2K   \u001b[90m━━━━━━━━━━━━━━━━━━━━━━━━━━━━━━━━━━━━━━━━\u001b[0m \u001b[32m62.5/62.5 kB\u001b[0m \u001b[31m6.3 MB/s\u001b[0m eta \u001b[36m0:00:00\u001b[0m\n",
            "\u001b[2K   \u001b[90m━━━━━━━━━━━━━━━━━━━━━━━━━━━━━━━━━━━━━━━━\u001b[0m \u001b[32m459.8/459.8 kB\u001b[0m \u001b[31m39.6 MB/s\u001b[0m eta \u001b[36m0:00:00\u001b[0m\n",
            "\u001b[2K   \u001b[90m━━━━━━━━━━━━━━━━━━━━━━━━━━━━━━━━━━━━━━━━\u001b[0m \u001b[32m50.9/50.9 kB\u001b[0m \u001b[31m4.6 MB/s\u001b[0m eta \u001b[36m0:00:00\u001b[0m\n",
            "\u001b[2K   \u001b[90m━━━━━━━━━━━━━━━━━━━━━━━━━━━━━━━━━━━━━━━━\u001b[0m \u001b[32m72.0/72.0 kB\u001b[0m \u001b[31m7.1 MB/s\u001b[0m eta \u001b[36m0:00:00\u001b[0m\n",
            "\u001b[2K   \u001b[90m━━━━━━━━━━━━━━━━━━━━━━━━━━━━━━━━━━━━━━━━\u001b[0m \u001b[32m4.0/4.0 MB\u001b[0m \u001b[31m78.6 MB/s\u001b[0m eta \u001b[36m0:00:00\u001b[0m\n",
            "\u001b[2K   \u001b[90m━━━━━━━━━━━━━━━━━━━━━━━━━━━━━━━━━━━━━━━━\u001b[0m \u001b[32m454.8/454.8 kB\u001b[0m \u001b[31m38.3 MB/s\u001b[0m eta \u001b[36m0:00:00\u001b[0m\n",
            "\u001b[2K   \u001b[90m━━━━━━━━━━━━━━━━━━━━━━━━━━━━━━━━━━━━━━━━\u001b[0m \u001b[32m46.0/46.0 kB\u001b[0m \u001b[31m4.2 MB/s\u001b[0m eta \u001b[36m0:00:00\u001b[0m\n",
            "\u001b[2K   \u001b[90m━━━━━━━━━━━━━━━━━━━━━━━━━━━━━━━━━━━━━━━━\u001b[0m \u001b[32m86.8/86.8 kB\u001b[0m \u001b[31m9.1 MB/s\u001b[0m eta \u001b[36m0:00:00\u001b[0m\n",
            "\u001b[?25h  Building wheel for pypika (pyproject.toml) ... \u001b[?25l\u001b[?25hdone\n",
            "\u001b[31mERROR: pip's dependency resolver does not currently take into account all the packages that are installed. This behaviour is the source of the following dependency conflicts.\n",
            "google-colab 1.0.0 requires pandas==2.2.2, but you have pandas 1.5.3 which is incompatible.\n",
            "cudf-cu12 25.2.1 requires pandas<2.2.4dev0,>=2.0, but you have pandas 1.5.3 which is incompatible.\n",
            "thinc 8.3.6 requires numpy<3.0.0,>=2.0.0, but you have numpy 1.25.2 which is incompatible.\n",
            "dask-expr 1.1.21 requires pandas>=2, but you have pandas 1.5.3 which is incompatible.\n",
            "mizani 0.13.5 requires pandas>=2.2.0, but you have pandas 1.5.3 which is incompatible.\n",
            "db-dtypes 1.4.3 requires packaging>=24.2.0, but you have packaging 23.2 which is incompatible.\n",
            "google-cloud-bigquery 3.32.0 requires packaging>=24.2.0, but you have packaging 23.2 which is incompatible.\n",
            "langchain-text-splitters 0.3.8 requires langchain-core<1.0.0,>=0.3.51, but you have langchain-core 0.1.23 which is incompatible.\n",
            "plotnine 0.14.5 requires pandas>=2.2.0, but you have pandas 1.5.3 which is incompatible.\n",
            "blosc2 3.3.2 requires numpy>=1.26, but you have numpy 1.25.2 which is incompatible.\n",
            "dask-cudf-cu12 25.2.2 requires pandas<2.2.4dev0,>=2.0, but you have pandas 1.5.3 which is incompatible.\n",
            "xarray 2025.3.1 requires pandas>=2.1, but you have pandas 1.5.3 which is incompatible.\n",
            "peft 0.15.2 requires huggingface_hub>=0.25.0, but you have huggingface-hub 0.23.2 which is incompatible.\n",
            "tensorflow 2.18.0 requires numpy<2.1.0,>=1.26.0, but you have numpy 1.25.2 which is incompatible.\n",
            "diffusers 0.33.1 requires huggingface-hub>=0.27.0, but you have huggingface-hub 0.23.2 which is incompatible.\u001b[0m\u001b[31m\n",
            "\u001b[0m"
          ]
        }
      ],
      "source": [
        "# For installing the libraries & downloading models from HF Hub\n",
        "!pip install huggingface_hub==0.23.2 pandas==1.5.3 tiktoken==0.6.0 pypdf==4.0.1 pymupdf==1.25.1 langchain==0.1.1 langchain-community==0.0.13 chromadb==0.4.22 sentence-transformers==2.3.1 numpy==1.25.2 -q"
      ]
    },
    {
      "cell_type": "code",
      "execution_count": 1,
      "metadata": {
        "id": "RTY9GN4oWK3g"
      },
      "outputs": [],
      "source": [
        "#Libraries for processing dataframes,text\n",
        "import json,os\n",
        "import tiktoken\n",
        "#import pandas as pd\n",
        "\n",
        "#Libraries for Loading Data, Chunking, Embedding, and Vector Databases\n",
        "from langchain.text_splitter import RecursiveCharacterTextSplitter\n",
        "from langchain_community.document_loaders import PyPDFDirectoryLoader, PyPDFLoader, PyMuPDFLoader\n",
        "from langchain_community.embeddings.sentence_transformer import SentenceTransformerEmbeddings\n",
        "from langchain_community.vectorstores import Chroma\n",
        "\n",
        "from huggingface_hub import hf_hub_download\n",
        "from llama_cpp import Llama"
      ]
    },
    {
      "cell_type": "markdown",
      "metadata": {
        "id": "HR5FnmX6CC1B"
      },
      "source": [
        "## Question Answering using LLM"
      ]
    },
    {
      "cell_type": "markdown",
      "metadata": {
        "id": "PYB8S5jXCC1B"
      },
      "source": [
        "#### Downloading and Loading the model"
      ]
    },
    {
      "cell_type": "code",
      "source": [
        "## Model configuration\n",
        "model_name_or_path = \"TheBloke/Llama-2-13B-chat-GGUF\"\n",
        "model_basename = \"llama-2-13b-chat.Q5_K_M.gguf\"\n",
        "model_path = hf_hub_download(\n",
        "    repo_id=model_name_or_path,\n",
        "    filename=model_basename\n",
        "    )"
      ],
      "metadata": {
        "colab": {
          "base_uri": "https://localhost:8080/"
        },
        "outputId": "6492a634-99a1-4acd-deea-7abffe3544f2",
        "id": "sxwgvKYFCC1C"
      },
      "execution_count": 2,
      "outputs": [
        {
          "output_type": "stream",
          "name": "stderr",
          "text": [
            "/usr/local/lib/python3.11/dist-packages/huggingface_hub/utils/_token.py:89: UserWarning: \n",
            "The secret `HF_TOKEN` does not exist in your Colab secrets.\n",
            "To authenticate with the Hugging Face Hub, create a token in your settings tab (https://huggingface.co/settings/tokens), set it as secret in your Google Colab and restart your session.\n",
            "You will be able to reuse this secret in all of your notebooks.\n",
            "Please note that authentication is recommended but still optional to access public models or datasets.\n",
            "  warnings.warn(\n"
          ]
        }
      ]
    },
    {
      "cell_type": "code",
      "source": [
        "lcpp_llm = Llama(\n",
        "    model_path=model_path,\n",
        "    n_threads=2,  # CPU cores\n",
        "    n_batch=512,  # Should be between 1 and n_ctx, consider the amount of VRAM in your GPU.\n",
        "    n_gpu_layers=43,  # Change this value based on your model and your GPU VRAM pool.\n",
        "    n_ctx=4096,  # Context window\n",
        ")"
      ],
      "metadata": {
        "colab": {
          "base_uri": "https://localhost:8080/"
        },
        "id": "IVkHgsFfwK6G",
        "outputId": "ffca578a-c284-4aab-94b6-a3500e740461"
      },
      "execution_count": 3,
      "outputs": [
        {
          "output_type": "stream",
          "name": "stderr",
          "text": [
            "AVX = 1 | AVX2 = 1 | AVX512 = 0 | AVX512_VBMI = 0 | AVX512_VNNI = 0 | FMA = 1 | NEON = 0 | ARM_FMA = 0 | F16C = 1 | FP16_VA = 0 | WASM_SIMD = 0 | BLAS = 1 | SSE3 = 1 | SSSE3 = 1 | VSX = 0 | \n"
          ]
        }
      ]
    },
    {
      "cell_type": "markdown",
      "metadata": {
        "id": "333u7na-CC1D"
      },
      "source": [
        "#### Response"
      ]
    },
    {
      "cell_type": "code",
      "source": [
        "# function to generate, process, and return the response from the LLM\n",
        "def generate_llama_response(user_prompt):\n",
        "\n",
        "    # System message\n",
        "    system_message = \"\"\"\n",
        "    [INST]<<SYS>> Respond to the user question based on the user prompt<</SYS>>[/INST]\n",
        "    \"\"\"\n",
        "\n",
        "    # Combine user_prompt and system_message to create the prompt\n",
        "    prompt = f\"{user_prompt}\\n{system_message}\"\n",
        "\n",
        "    # Generate a response from the LLaMA model\n",
        "    response = lcpp_llm(\n",
        "        prompt=prompt,\n",
        "        max_tokens=500,\n",
        "        temperature=0,\n",
        "        top_p=0.95,\n",
        "        repeat_penalty=1.2,\n",
        "        top_k=50,\n",
        "        stop=['INST'],\n",
        "        echo=False\n",
        "    )\n",
        "\n",
        "    # Extract and return the response text\n",
        "    response_text = response[\"choices\"][0][\"text\"]\n",
        "    return response_text"
      ],
      "metadata": {
        "id": "qmAQOcGeyyXO"
      },
      "execution_count": 5,
      "outputs": []
    },
    {
      "cell_type": "markdown",
      "metadata": {
        "id": "ux4hKerUCC1E"
      },
      "source": [
        "### Query 1: What is the protocol for managing sepsis in a critical care unit?"
      ]
    },
    {
      "cell_type": "code",
      "source": [
        "user_prompt = \"What is the protocol for managing sepsis in a critical care unit?\"\n",
        "response = generate_llama_response(user_prompt)\n",
        "print(response)"
      ],
      "metadata": {
        "colab": {
          "base_uri": "https://localhost:8080/"
        },
        "outputId": "433b4be8-1a63-4bab-9ff2-c68c1c6c7858",
        "id": "ed5SYwR6CC1E"
      },
      "execution_count": 6,
      "outputs": [
        {
          "output_type": "stream",
          "name": "stdout",
          "text": [
            " The management of sepsis in a critical care unit (CCU) follows a standardized protocol that includes early recognition, aggressive fluid resuscitation, antibiotic therapy, and close monitoring. Here are the key components of the protocol:\n",
            "\n",
            "1. Early Recognition: The CCU team should be vigilant in identifying patients at risk for sepsis, using clinical criteria such as fever, tachycardia, tachypnea, or signs of organ dysfunction. Blood cultures should be obtained promptly if sepsis is suspected.\n",
            "2. Aggressive Fluid Resuscitation: Septic patients may have hypovolemia due to vasodilation and increased capillary permeability. Crystalloid fluids (e.g., lactated Ringer's solution) should be administered intravenously to restore blood pressure and perfusion.\n",
            "3. Antibiotic Therapy: Broad-spectrum antibiotics effective against common causes of sepsis, such as Pseudomonas aeruginosa and Gram-negative bacteria, should be initiated promptly. The choice of antibiotics may vary depending on the suspected source of infection and local antibiotic resistance patterns.\n",
            "4. Close Monitoring: Septic patients require continuous monitoring of vital signs, particularly blood pressure, tissue perfusion (e.g., central venous oxygen saturation), and organ function (e.g., serum creatinine, bilirubin). Frequent assessment of fluid status, respiratory and cardiovascular parameters, and the presence of signs of sepsis (e.g., confusion, hypotension) is essential.\n",
            "5. Source Control: The source of infection should be identified and controlled as soon as possible. This may involve surgical intervention, drainage of abscesses, or debridement of infected tissue.\n",
            "6. Supportive Care: Septic patients often require mechanical ventilation, vasopressors, and other supportive therapies to maintain organ function. The CCU team should be familiar with the use of these interventions and monitor their effects closely.\n",
            "7. Protocol-Driven Management: A sepsis protocol should guide the management of sept\n"
          ]
        }
      ]
    },
    {
      "cell_type": "markdown",
      "metadata": {
        "id": "QmFYrdqCCC1F"
      },
      "source": [
        "### Query 2: What are the common symptoms for appendicitis, and can it be cured via medicine? If not, what surgical procedure should be followed to treat it?"
      ]
    },
    {
      "cell_type": "code",
      "source": [
        "user_prompt = \" What are the common symptoms for appendicitis, and can it be cured via medicine? If not, what surgical procedure should be followed to treat it?\"\n",
        "response = generate_llama_response(user_prompt)\n",
        "print(response)"
      ],
      "metadata": {
        "colab": {
          "base_uri": "https://localhost:8080/"
        },
        "outputId": "4efeefa8-05af-4350-82d5-f3a7943a2ef7",
        "id": "V8WizmPrCC1F"
      },
      "execution_count": 7,
      "outputs": [
        {
          "output_type": "stream",
          "name": "stderr",
          "text": [
            "Llama.generate: prefix-match hit\n"
          ]
        },
        {
          "output_type": "stream",
          "name": "stdout",
          "text": [
            " Sure, I'd be happy to help! Appendicitis is a medical emergency that requires immediate attention. The common symptoms of appendicitis include:\n",
            "\n",
            "1. Severe pain in the abdomen, usually starting near the belly button and then moving to the lower right side of the abdomen.\n",
            "2. Nausea and vomiting.\n",
            "3. Loss of appetite.\n",
            "4. Fever.\n",
            "5. Abdominal tenderness and guarding (muscle tension).\n",
            "6. Abdominal swelling.\n",
            "7. Diarrhea or constipation.\n",
            "\n",
            "If you suspect that you or someone else may have appendicitis, it is essential to seek medical attention immediately. Appendicitis cannot be cured via medicine; instead, surgery is required to remove the inflamed appendix. The surgical procedure most commonly used to treat appendicitis is an appendectomy, which involves removing the inflamed appendix through a small incision in the abdomen.\n",
            "\n",
            "There are two types of appendectomies: open and laparoscopic. An open appendectomy involves making a larger incision in the abdomen to access the appendix directly. A laparoscopic appendectomy, on the other hand, is a minimally invasive procedure that uses a small camera and specialized instruments to remove the appendix through several small incisions.\n",
            "\n",
            "In some cases, the surgeon may decide to perform an open appendectomy if the inflammation has spread beyond the appendix or if there are other complications present. The choice between open and laparoscopic surgery will depend on the individual case and the preference of the surgeon.\n",
            "\n",
            "It is important to note that delaying treatment for appendicitis can lead to serious complications, such as the appendix rupturing and spreading infection throughout the abdominal cavity (peritonitis). Peritonitis can be life-threatening and may require more extensive surgery and a longer recovery time. Therefore, it is crucial to seek medical attention immediately if you suspect that you or someone else may have appendicitis.\n"
          ]
        }
      ]
    },
    {
      "cell_type": "markdown",
      "metadata": {
        "id": "ix47py7wCC1F"
      },
      "source": [
        "### Query 3: What are the effective treatments or solutions for addressing sudden patchy hair loss, commonly seen as localized bald spots on the scalp, and what could be the possible causes behind it?"
      ]
    },
    {
      "cell_type": "code",
      "source": [
        "user_prompt = \" What are the effective treatments or solutions for addressing sudden patchy hair loss, commonly seen as localized bald spots on the scalp, and what could be the possible causes behind it?\"\n",
        "response = generate_llama_response(user_prompt)\n",
        "print(response)"
      ],
      "metadata": {
        "colab": {
          "base_uri": "https://localhost:8080/"
        },
        "outputId": "ffe2b4b2-f6f1-489b-e3b8-7e3d8b6b7f06",
        "id": "Vq9eWZuFCC1G"
      },
      "execution_count": 8,
      "outputs": [
        {
          "output_type": "stream",
          "name": "stderr",
          "text": [
            "Llama.generate: prefix-match hit\n"
          ]
        },
        {
          "output_type": "stream",
          "name": "stdout",
          "text": [
            " Sudden patchy hair loss, characterized by localized bald spots on the scalp, can be a distressing and challenging condition to address. The possible causes of this phenomenon are diverse, ranging from hormonal imbalances, autoimmune disorders, infections, allergies, and nutritional deficiencies. Here are some effective treatments or solutions that may help address sudden patchy hair loss:\n",
            "\n",
            "1. Medications: Minoxidil (Rogaine) and finasteride (Propecia) are two FDA-approved medications that have been shown to promote hair growth and slow down hair loss. These medications work by stimulating blood flow, reducing inflammation, and blocking the conversion of testosterone to dihydrotestosterone (DHT), a hormone linked to balding.\n",
            "2. Low-level laser therapy (LLLT): LLLT uses low-level lasers or light-emitting diodes to stimulate hair growth by increasing blood flow and promoting cellular activity. Studies have shown that LLLT can improve hair density, increase hair thickness, and reduce the size of balding areas.\n",
            "3. Platelet-rich plasma (PRP) therapy: PRP involves injecting platelet-rich plasma into the scalp to stimulate hair growth. The platelets contain growth factors that promote cellular activity, tissue repair, and healing. Studies have shown that PRP can improve hair density, increase hair thickness, and reduce the size of balding areas.\n",
            "4. Dietary changes: A balanced diet rich in vitamins, minerals, and proteins is essential for maintaining healthy hair growth. Foods high in omega-3 fatty acids (salmon, walnuts), zinc (oysters, beef), iron (spinach, lentils), and biotin (egg yolks, sweet potatoes) are particularly beneficial for promoting hair growth.\n",
            "5. Reduce stress: Stress can cause inflammation in the body, leading to hair loss. Practicing stress-reducing techniques such as meditation, yoga, or deep breathing exercises may help alleviate stress and promote hair growth.\n",
            "6.\n"
          ]
        }
      ]
    },
    {
      "cell_type": "markdown",
      "metadata": {
        "id": "b1ZMxguZCC1G"
      },
      "source": [
        "### Query 4:  What treatments are recommended for a person who has sustained a physical injury to brain tissue, resulting in temporary or permanent impairment of brain function?"
      ]
    },
    {
      "cell_type": "code",
      "source": [
        "user_prompt = \"What treatments are recommended for a person who has sustained a physical injury to brain tissue, resulting in temporary or permanent impairment of brain function?\"\n",
        "response = generate_llama_response(user_prompt)\n",
        "print(response)"
      ],
      "metadata": {
        "colab": {
          "base_uri": "https://localhost:8080/"
        },
        "outputId": "b9d1b88b-ea11-4b4a-d0fc-a251d5dfcb1d",
        "id": "3hGCVsKJCC1G"
      },
      "execution_count": 9,
      "outputs": [
        {
          "output_type": "stream",
          "name": "stderr",
          "text": [
            "Llama.generate: prefix-match hit\n"
          ]
        },
        {
          "output_type": "stream",
          "name": "stdout",
          "text": [
            " Treatments for a physical injury to brain tissue depend on the severity and location of the injury, as well as the specific symptoms and needs of the individual. Here are some common treatments that may be recommended:\n",
            "\n",
            "1. Medications: Various medications may be prescribed to manage symptoms such as pain, inflammation, seizures, or mood changes. These can include analgesics, anti-inflammatory drugs, anticonvulsants, and mood stabilizers.\n",
            "2. Rehabilitation therapy: Physical, occupational, and speech therapies may be necessary to help the individual regain lost function and improve their quality of life. These therapies can include exercises to strengthen affected muscles, activities to improve cognitive and motor skills, and training in the use of assistive devices such as walkers or wheelchairs.\n",
            "3. Surgery: In some cases, surgery may be necessary to relieve pressure on brain tissue, repair damaged blood vessels, or remove a tumor or other foreign object that is causing injury.\n",
            "4. Stem cell therapy: This is a promising area of research for the treatment of brain injuries. Stem cells have the ability to differentiate into different types of cells in the body and may help to repair damaged tissue.\n",
            "5. Hyperbaric oxygen therapy: This involves breathing pure oxygen in a pressurized chamber, which can increase blood flow and oxygen delivery to injured brain tissue. It is sometimes used to treat injuries such as traumatic brain injury or stroke.\n",
            "6. Neuroplasticity-based interventions: These are techniques that aim to improve the brain's ability to adapt and compensate for lost function. Examples include cognitive training, physical therapy, and behavioral interventions.\n",
            "7. Deep brain stimulation: This is a surgical procedure in which an electrode is implanted in the brain to deliver electrical impulses to specific areas of the brain. It may be used to treat conditions such as Parkinson's disease or obsessive-compulsive disorder.\n",
            "8. Brain-computer interfaces: These are devices that allow individuals to control technology with their thoughts. They may be useful for individuals with severe physical impairments,\n"
          ]
        }
      ]
    },
    {
      "cell_type": "markdown",
      "metadata": {
        "id": "kLd74xdjCC1H"
      },
      "source": [
        "### Query 5: What are the necessary precautions and treatment steps for a person who has fractured their leg during a hiking trip, and what should be considered for their care and recovery?"
      ]
    },
    {
      "cell_type": "code",
      "source": [
        "user_prompt = \"What are the necessary precautions and treatment steps for a person who has fractured their leg during a hiking trip, and what should be considered for their care and recovery?\"\n",
        "response = generate_llama_response(user_prompt)\n",
        "print(response)"
      ],
      "metadata": {
        "colab": {
          "base_uri": "https://localhost:8080/"
        },
        "outputId": "8fe150fa-d898-4228-a29a-827d5bad379d",
        "id": "jluz80pWCC1H"
      },
      "execution_count": 10,
      "outputs": [
        {
          "output_type": "stream",
          "name": "stderr",
          "text": [
            "Llama.generate: prefix-match hit\n"
          ]
        },
        {
          "output_type": "stream",
          "name": "stdout",
          "text": [
            " Sure, I'd be happy to help! If someone has fractured their leg during a hiking trip, it is essential to take immediate action to provide proper care and prevent further complications. Here are some necessary precautions and treatment steps that should be considered:\n",
            "\n",
            "1. Stop activity: The first step is to stop any physical activity and rest the affected limb immediately. This will help prevent further damage or displacement of the fracture.\n",
            "2. Assess the injury: Evaluate the severity of the fracture by checking for signs such as swelling, deformity, or difficulty moving the leg. If the fracture is severe or if there are any open wounds, call for emergency medical assistance immediately.\n",
            "3. Immobilize the limb: Use a splint or brace to immobilize the affected leg and prevent movement. This will help reduce pain and promote healing.\n",
            "4. Apply ice: Apply ice packs to the affected area to reduce swelling and relieve pain. Wrap the ice in a towel or cloth to avoid direct contact with the skin.\n",
            "5. Elevate the limb: Elevate the fractured leg above heart level to reduce swelling and promote blood flow.\n",
            "6. Monitor for signs of complications: Keep an eye out for any signs of complications such as increased pain, numbness or tingling sensations, or difficulty moving the affected limb. If these symptoms occur, seek medical attention immediately.\n",
            "7. Seek medical attention: Even if the fracture appears minor, it is essential to seek medical attention from a healthcare professional as soon as possible. A doctor can assess the severity of the fracture and provide appropriate treatment options.\n",
            "8. Follow-up care: After seeking medical attention, follow your healthcare provider's instructions for recovery and rehabilitation. This may include physical therapy exercises to regain strength and mobility in the affected limb.\n",
            "9. Consider a splint or cast: Depending on the severity of the fracture, your doctor may recommend using a splint or cast to immobilize the affected leg during the healing process.\n",
            "10. Take pain medication: Your healthcare provider may prescribe pain medication to help manage any discomfort or pain\n"
          ]
        }
      ]
    },
    {
      "cell_type": "markdown",
      "source": [
        "- The answers are more general and basics."
      ],
      "metadata": {
        "id": "4S8fL-cD7rVx"
      }
    },
    {
      "cell_type": "markdown",
      "metadata": {
        "id": "spppyqGjCC1H"
      },
      "source": [
        "## Question Answering using LLM with Prompt Engineering"
      ]
    },
    {
      "cell_type": "markdown",
      "metadata": {
        "id": "4VHAFZBlCC1I"
      },
      "source": [
        "### Query 1: What is the protocol for managing sepsis in a critical care unit?"
      ]
    },
    {
      "cell_type": "code",
      "source": [
        "# Removed the line 'Hana' as it was causing a NameError.\n",
        "user_prompt = \" Provide a step-by-step clinical protocol for managing sepsis in a critical care (ICU) setting, including early identification, diagnostic criteria, antibiotic therapy, fluid resuscitation, and hemodynamic monitoring.\"\n",
        "response = generate_llama_response(user_prompt)\n",
        "print(response)"
      ],
      "metadata": {
        "colab": {
          "base_uri": "https://localhost:8080/"
        },
        "id": "zPzuW5RQAaMA",
        "outputId": "38302c12-6458-444e-dd87-0cc845d1df70"
      },
      "execution_count": 11,
      "outputs": [
        {
          "output_type": "stream",
          "name": "stderr",
          "text": [
            "Llama.generate: prefix-match hit\n"
          ]
        },
        {
          "output_type": "stream",
          "name": "stdout",
          "text": [
            " Sure, here is a step-by-step clinical protocol for managing sepsis in an intensive care unit (ICU) setting:\n",
            "\n",
            "Step 1: Early Identification and Suspicion of Sepsis\n",
            "-----------------------------------------------\n",
            "\n",
            "* Assess the patient's vital signs, including temperature, blood pressure, tachycardia, and tachypnea.\n",
            "* Check for signs of infection, such as fever, purulent drainage, or wound redness.\n",
            "* Evaluate the patient's medical history for risk factors for sepsis, such as recent surgery, immunosuppression, or chronic illness.\n",
            "\n",
            "Step 2: Diagnostic Criteria for Sepsis\n",
            "--------------------------------------\n",
            "\n",
            "* Use the Systemic Inflammatory Response Syndrome (SIRS) criteria to diagnose sepsis:\n",
            "\t+ Body temperature >38°C or <36°C\n",
            "\t+ Heart rate >90 beats per minute\n",
            "\t+ Respiratory rate >20 breaths per minute or arterial CO2 tension (PaCO2) <32 mmHg\n",
            "\t+ White blood cell count (WBC) >12,000 cells/mm3 or <4,000 cells/mm3, or >10% bands (immature white blood cells)\n",
            "* Confirm the presence of an infection using clinical and laboratory criteria.\n",
            "\n",
            "Step 3: Antibiotic Therapy\n",
            "-------------------------\n",
            "\n",
            "* Initiate broad-spectrum antibiotics within the first hour of recognition of sepsis, based on local antibiotic guidelines.\n",
            "* Choose an antibiotic that covers common pathogens such as Gram-positive cocci (e.g., methicillin-sensitive Staphylococcus aureus [MSSA] and methicillin-resistant Staphylococcus aureus [MRSA]), Gram-negative bacilli (e.g., Pseudomonas aeruginosa), and fungi (e.g., Candida species).\n",
            "* Consider the patient's allergies, renal function, and other medications when selecting antibiotics.\n"
          ]
        }
      ]
    },
    {
      "cell_type": "markdown",
      "metadata": {
        "id": "avHaMpC-CC1I"
      },
      "source": [
        "### Query 2: What are the common symptoms for appendicitis, and can it be cured via medicine? If not, what surgical procedure should be followed to treat it?"
      ]
    },
    {
      "cell_type": "code",
      "source": [
        "user_prompt = \" What are the typical clinical symptoms of appendicitis, and under what circumstances can it be treated non-surgically with antibiotics? If surgery is required, describe the standard operative procedure and post-operative care. \"\n",
        "response = generate_llama_response(user_prompt)\n",
        "print(response)"
      ],
      "metadata": {
        "colab": {
          "base_uri": "https://localhost:8080/"
        },
        "outputId": "2927d5f0-c158-4ae1-e112-81a7a7a4a40d",
        "id": "w-xJl_8mCC1I"
      },
      "execution_count": 12,
      "outputs": [
        {
          "output_type": "stream",
          "name": "stderr",
          "text": [
            "Llama.generate: prefix-match hit\n"
          ]
        },
        {
          "output_type": "stream",
          "name": "stdout",
          "text": [
            " Sure, I'd be happy to help! Appendicitis is a medical emergency that requires prompt treatment to prevent complications and potentially life-threatening outcomes. Here are the typical clinical symptoms of appendicitis, as well as information on non-surgical treatment with antibiotics and the standard operative procedure and post-operative care when surgery is required:\n",
            "\n",
            "Typical Clinical Symptoms of Appendicitis:\n",
            "------------------------------------------\n",
            "\n",
            "The typical clinical symptoms of appendicitis include:\n",
            "\n",
            "1. Severe pain in the lower right abdomen that begins suddenly and worsens over time. The pain may be described as a sharp, stabbing sensation or a dull ache.\n",
            "2. Nausea and vomiting are common, especially in the early stages of appendicitis.\n",
            "3. Loss of appetite and fever are also typical symptoms.\n",
            "4. Abdominal tenderness and guarding (muscle tension) in the lower right abdomen.\n",
            "5. Palpable rigidity in the abdomen, which is a sign of peritonitis (inflammation of the lining of the abdominal cavity).\n",
            "6. Abdominal swelling and guarding may be present if the appendix has ruptured.\n",
            "7. Diarrhea or constipation may also occur in some cases.\n",
            "\n",
            "Non-Surgical Treatment with Antibiotics:\n",
            "-------------------------------------------\n",
            "\n",
            "In some cases, appendicitis can be treated non-surgically with antibiotics if the diagnosis is made early and the patient's condition is stable. The goal of antibiotic treatment is to reduce the inflammation and prevent further complications. The typical regimen includes broad-spectrum antibiotics such as cefotaxime or metronidazole, which are given intravenously for 24-48 hours.\n",
            "\n",
            "Standard Operative Procedure:\n",
            "-------------------------------\n",
            "\n",
            "If surgery is required, the standard operative procedure for appendicitis involves an appendectomy, which is the removal of the inflamed appendix. The procedure can be performed through a small incision in the lower right abdomen (laparos\n"
          ]
        }
      ]
    },
    {
      "cell_type": "markdown",
      "metadata": {
        "id": "TW98NJNmCC1J"
      },
      "source": [
        "### Query 3: What are the effective treatments or solutions for addressing sudden patchy hair loss, commonly seen as localized bald spots on the scalp, and what could be the possible causes behind it?"
      ]
    },
    {
      "cell_type": "code",
      "source": [
        "user_prompt = \" Explain the most effective treatments for sudden-onset patchy hair loss (e.g., alopecia areata), including both medical and dermatological options. What are the likely causes and diagnostic steps to confirm the condition? \"\n",
        "response = generate_llama_response(user_prompt)\n",
        "print(response)"
      ],
      "metadata": {
        "colab": {
          "base_uri": "https://localhost:8080/"
        },
        "outputId": "d723aa90-b70a-436d-a03b-370e9db23df2",
        "id": "CN29NKMeCC1J"
      },
      "execution_count": 13,
      "outputs": [
        {
          "output_type": "stream",
          "name": "stderr",
          "text": [
            "Llama.generate: prefix-match hit\n"
          ]
        },
        {
          "output_type": "stream",
          "name": "stdout",
          "text": [
            " Sure, I'd be happy to help! Sudden-onset patchy hair loss, such as alopecia areata, can be a distressing condition that affects both men and women. While there is no cure for alopecia areata, there are several effective treatments available that can help promote hair growth and improve the appearance of your hair.\n",
            "\n",
            "Medical Treatment Options:\n",
            "\n",
            "1. Corticosteroid Injections: These injections are directly administered into the affected area to reduce inflammation and suppress the immune system, which is believed to play a role in alopecia areata. They can help promote hair growth and slow down further hair loss.\n",
            "2. Topical Corticosteroids: For mild to moderate cases of alopecia areata, topical corticosteroid creams or ointments may be prescribed to reduce inflammation and promote hair growth. These can include hydrocortisone cream, triamcinolone acetonide cream, or clobetasol propionate cream.\n",
            "3. Minoxidil: This medication is applied directly to the affected area and can help stimulate hair growth by increasing blood flow and widening hair follicles. It may take several months to see noticeable results.\n",
            "4. Anthralin: This medication is used to reduce inflammation and promote hair growth. It works by reducing the activity of immune cells that attack hair follicles.\n",
            "5. Immunotherapy: In severe cases of alopecia areata, immunotherapy may be recommended. This involves injecting a small amount of a substance called diphencyprone (DPCP) into the affected area to stimulate an allergic reaction and promote hair growth.\n",
            "\n",
            "Dermatological Options:\n",
            "\n",
            "1. Platelet-rich Plasma (PRP) Therapy: PRP therapy involves injecting platelets rich in growth factors into the affected area to stimulate hair growth. It is thought that the growth factors in the platelets can help promote hair growth and improve the appearance of thinning hair.\n",
            "2. Low-Level Laser Therapy (LLLT): LLLT uses low-level lasers or light-emitting diodes to stimulate hair growth by increasing blood\n"
          ]
        }
      ]
    },
    {
      "cell_type": "markdown",
      "metadata": {
        "id": "O3hDNWkVCC1J"
      },
      "source": [
        "### Query 4:  What treatments are recommended for a person who has sustained a physical injury to brain tissue, resulting in temporary or permanent impairment of brain function?"
      ]
    },
    {
      "cell_type": "code",
      "source": [
        "user_prompt = \" What are the recommended acute and long-term treatments for a patient with traumatic brain injury (TBI), and how do these vary based on the severity of impairment (mild, moderate, or severe)? Include rehabilitation and monitoring considerations. \"\n",
        "response = generate_llama_response(user_prompt)\n",
        "print(response)"
      ],
      "metadata": {
        "colab": {
          "base_uri": "https://localhost:8080/"
        },
        "outputId": "fd2cb938-d25a-467a-9fc1-bff00ceb9deb",
        "id": "EujdNhYXCC1K"
      },
      "execution_count": 14,
      "outputs": [
        {
          "output_type": "stream",
          "name": "stderr",
          "text": [
            "Llama.generate: prefix-match hit\n"
          ]
        },
        {
          "output_type": "stream",
          "name": "stdout",
          "text": [
            " Traumatic brain injury (TBI) can have a significant impact on a patient's quality of life, cognitive functioning, and physical abilities. The recommended acute and long-term treatments for TBI vary based on the severity of impairment, which is typically classified as mild, moderate, or severe. Here are some general considerations for each severity level:\n",
            "\n",
            "Mild TBI (concussions):\n",
            "\n",
            "* Acute treatment: Observation and monitoring for 24-48 hours to assess for any worsening of symptoms.\n",
            "* Long-term treatment: Cognitive therapy, physical therapy, and behavioral therapy may be helpful in addressing symptoms such as headaches, dizziness, and difficulty with concentration and memory.\n",
            "\n",
            "Moderate TBI:\n",
            "\n",
            "* Acute treatment: Hospitalization for close monitoring and management of respiratory and cardiovascular functions, as well as surgical intervention if necessary (e.g., craniotomy or brain decompression).\n",
            "* Long-term treatment: Rehabilitation programs that include physical therapy, occupational therapy, speech therapy, and cognitive therapy to address impairments in mobility, communication, and cognitive functioning.\n",
            "\n",
            "Severe TBI:\n",
            "\n",
            "* Acute treatment: Intensive care unit (ICU) admission for close monitoring of vital signs and management of respiratory and cardiovascular functions, as well as surgical intervention if necessary (e.g., craniotomy or brain decompression).\n",
            "* Long-term treatment: Rehabilitation programs that include physical therapy, occupational therapy, speech therapy, and cognitive therapy to address impairments in mobility, communication, and cognitive functioning. In addition, patients with severe TBI may require ongoing medical care and support for chronic conditions such as seizures or hydrocephalus.\n",
            "\n",
            "In all cases of TBI, it is important to monitor the patient's condition closely and adjust treatment plans accordingly. This may involve regular follow-up appointments with a neurologist, rehabilitation specialists, and other healthcare professionals. Rehabilitation programs should be tailored to the individual patient's needs and goals,\n"
          ]
        }
      ]
    },
    {
      "cell_type": "markdown",
      "metadata": {
        "id": "iWL6oXSKCC1K"
      },
      "source": [
        "### Query 5: What are the necessary precautions and treatment steps for a person who has fractured their leg during a hiking trip, and what should be considered for their care and recovery?"
      ]
    },
    {
      "cell_type": "code",
      "source": [
        "user_prompt = \" Outline the first aid, diagnostic steps, and treatment plan for a leg fracture sustained during a hiking trip. What precautions should be taken in remote environments, and what does the recovery and rehabilitation process involve? \"\n",
        "response = generate_llama_response(user_prompt)\n",
        "print(response)"
      ],
      "metadata": {
        "colab": {
          "base_uri": "https://localhost:8080/"
        },
        "outputId": "5df0230d-4730-4e74-f7be-7e8a57b31c77",
        "id": "4SMMZ6k0CC1K"
      },
      "execution_count": 15,
      "outputs": [
        {
          "output_type": "stream",
          "name": "stderr",
          "text": [
            "Llama.generate: prefix-match hit\n"
          ]
        },
        {
          "output_type": "stream",
          "name": "stdout",
          "text": [
            " Sure! Here's my response:  \n",
            "\n",
            "If you sustain a leg fracture while hiking in a remote environment, it is crucial to seek medical attention as soon as possible. However, if you are unable to access immediate medical care, here are the first aid, diagnostic steps, and treatment plan that can help manage your injury:  \n",
            "\n",
            "First Aid Steps: \n",
            "\n",
            "1. Stop any bleeding by applying direct pressure to the wound using a clean cloth or bandage. Elevate the affected limb above heart level to reduce swelling. \n",
            "2. Immobilize the fractured leg with a splint made of sturdy material such as a hiking stick, tree branch, or even a plastic water bottle. This will help maintain the alignment of the bones and prevent further damage.  \n",
            "3. Apply ice packs wrapped in cloth to reduce pain and swelling. \n",
            "4. Monitor vital signs, including pulse rate, breathing rate, and blood pressure. Keep the patient warm with extra layers of clothing or a space blanket. \n",
            "5. If possible, take photographs of the injury from different angles using a camera or smartphone to document the fracture for medical records later on.  \n",
            "\n",
            "Diagnostic Steps: \n",
            "\n",
            "1. Assess the severity of the fracture by checking for deformities, shortening of the affected limb, and difficulty moving the joints. \n",
            "2. Check for any open wounds or signs of infection such as redness, swelling, or pus.  \n",
            "3. Use a splint to immobilize the fractured leg and apply a compression bandage above the fracture site to reduce swelling. \n",
            "4. If possible, perform basic X-rays using a portable X-ray machine or assess for deformity using plain radiographs.  \n",
            "5. Monitor vital signs regularly and keep the patient as comfortable as possible while waiting for medical evacuation.  \n",
            "\n",
            "Treatment Plan: \n",
            "\n",
            "1. If the fracture is stable, immobilize it with a splint or cast until medical help arrives. \n",
            "2. Administer pain medication such as ibuprofen or acetaminophen to manage discomfort\n"
          ]
        }
      ]
    },
    {
      "cell_type": "markdown",
      "source": [
        "- The answers are more specific and detailed."
      ],
      "metadata": {
        "id": "i4cJqzMNCA-b"
      }
    },
    {
      "cell_type": "markdown",
      "source": [
        "## Data Preparation for RAG"
      ],
      "metadata": {
        "id": "t_O1PGdNO2M9"
      }
    },
    {
      "cell_type": "markdown",
      "metadata": {
        "id": "uTpWESc53dL9"
      },
      "source": [
        "### Loading the Data"
      ]
    },
    {
      "cell_type": "code",
      "source": [
        "from google.colab import drive\n",
        "drive.mount('/content/drive')"
      ],
      "metadata": {
        "id": "ybj2cEnzRSXq",
        "colab": {
          "base_uri": "https://localhost:8080/"
        },
        "outputId": "91acf2f9-e184-49af-8a6f-13753c104533"
      },
      "execution_count": 2,
      "outputs": [
        {
          "output_type": "stream",
          "name": "stdout",
          "text": [
            "Drive already mounted at /content/drive; to attempt to forcibly remount, call drive.mount(\"/content/drive\", force_remount=True).\n"
          ]
        }
      ]
    },
    {
      "cell_type": "code",
      "source": [
        "medical_pdf_path = \"/content/drive/My Drive/Colab Notebooks/medical_diagnosis_manual.pdf\"\n"
      ],
      "metadata": {
        "id": "E1WRUyPdq5rC"
      },
      "execution_count": 3,
      "outputs": []
    },
    {
      "cell_type": "code",
      "source": [
        "#medical_pdf_path = \"medical_diagnosis_manual.pdf\"\n"
      ],
      "metadata": {
        "id": "1cI2-HFXr45l"
      },
      "execution_count": 4,
      "outputs": []
    },
    {
      "cell_type": "code",
      "source": [
        "pdf_loader = PyMuPDFLoader(medical_pdf_path)\n"
      ],
      "metadata": {
        "id": "TcmDGCGwrbDC"
      },
      "execution_count": 5,
      "outputs": []
    },
    {
      "cell_type": "code",
      "source": [
        "medical = pdf_loader.load()\n"
      ],
      "metadata": {
        "id": "PNkTmrvCtwSR"
      },
      "execution_count": 6,
      "outputs": []
    },
    {
      "cell_type": "markdown",
      "metadata": {
        "id": "ffj0ca3eZT4u"
      },
      "source": [
        "### Data Overview"
      ]
    },
    {
      "cell_type": "markdown",
      "metadata": {
        "id": "f9weTDzMxRRS"
      },
      "source": [
        "#### Checking the first 3 pages"
      ]
    },
    {
      "cell_type": "code",
      "source": [
        "for i in range(3):\n",
        "    print(f\"Page Number : {i+1}\",end=\"\\n\")\n",
        "    print(medical[i].page_content,end=\"\\n\")"
      ],
      "metadata": {
        "id": "MSEiL--bRTZT",
        "colab": {
          "base_uri": "https://localhost:8080/"
        },
        "outputId": "527fc0a7-a00f-431b-95f7-e2f1362b6010"
      },
      "execution_count": 7,
      "outputs": [
        {
          "output_type": "stream",
          "name": "stdout",
          "text": [
            "Page Number : 1\n",
            "hanamekonnen2003@gmail.com\n",
            "XWQF01C793\n",
            "for personal use by hanamekonnen2003\n",
            "shing the contents in part or full is liable \n",
            "\n",
            "Page Number : 2\n",
            "hanamekonnen2003@gmail.com\n",
            "XWQF01C793\n",
            "This file is meant for personal use by hanamekonnen2003@gmail.com only.\n",
            "Sharing or publishing the contents in part or full is liable for legal action.\n",
            "\n",
            "Page Number : 3\n",
            "Table of Contents\n",
            "1\n",
            "Front    ................................................................................................................................................................................................................\n",
            "1\n",
            "Cover    .......................................................................................................................................................................................................\n",
            "2\n",
            "Front Matter    ...........................................................................................................................................................................................\n",
            "53\n",
            "1 - Nutritional Disorders    ...............................................................................................................................................................\n",
            "53\n",
            "Chapter 1. Nutrition: General Considerations    .....................................................................................................................\n",
            "59\n",
            "Chapter 2. Undernutrition    .............................................................................................................................................................\n",
            "69\n",
            "Chapter 3. Nutritional Support    ...................................................................................................................................................\n",
            "76\n",
            "Chapter 4. Vitamin Deficiency, Dependency & Toxicity    ..................................................................................................\n",
            "99\n",
            "Chapter 5. Mineral Deficiency & Toxicity    ..............................................................................................................................\n",
            "108\n",
            "Chapter 6. Obesity & the Metabolic Syndrome    ...............................................................................................................\n",
            "120\n",
            "2 - Gastrointestinal Disorders    ..............................................................................................................................................\n",
            "120\n",
            "Chapter 7. Approach to the Patient With Upper GI Complaints    ...............................................................................\n",
            "132\n",
            "Chapter 8. Approach to the Patient With Lower GI Complaints    ...............................................................................\n",
            "143\n",
            "Chapter 9. Diagnostic & Therapeutic GI Procedures    ....................................................................................................\n",
            "150\n",
            "Chapter 10. GI Bleeding    ............................................................................................................................................................\n",
            "158\n",
            "Chapter 11. Acute Abdomen & Surgical Gastroenterology    .........................................................................................\n",
            "172\n",
            "Chapter 12. Esophageal & Swallowing Disorders    ..........................................................................................................\n",
            "183\n",
            "Chapter 13. Gastritis & Peptic Ulcer Disease    ..................................................................................................................\n",
            "196\n",
            "Chapter 14. Bezoars & Foreign Bodies    ..............................................................................................................................\n",
            "199\n",
            "Chapter 15. Pancreatitis    ............................................................................................................................................................\n",
            "206\n",
            "Chapter 16. Gastroenteritis    ......................................................................................................................................................\n",
            "213\n",
            "Chapter 17. Malabsorption Syndromes    ..............................................................................................................................\n",
            "225\n",
            "Chapter 18. Irritable Bowel Syndrome    ................................................................................................................................\n",
            "229\n",
            "Chapter 19. Inflammatory Bowel Disease    .........................................................................................................................\n",
            "241\n",
            "Chapter 20. Diverticular Disease    ...........................................................................................................................................\n",
            "246\n",
            "Chapter 21. Anorectal Disorders    ............................................................................................................................................\n",
            "254\n",
            "Chapter 22. Tumors of the GI Tract    ......................................................................................................................................\n",
            "275\n",
            "3 - Hepatic & Biliary Disorders    ............................................................................................................................................\n",
            "275\n",
            "Chapter 23. Approach to the Patient With Liver Disease    ...........................................................................................\n",
            "294\n",
            "Chapter 24. Testing for Hepatic & Biliary Disorders    ......................................................................................................\n",
            "305\n",
            "Chapter 25. Drugs & the Liver    ................................................................................................................................................\n",
            "308\n",
            "Chapter 26. Alcoholic Liver Disease    ....................................................................................................................................\n",
            "314\n",
            "Chapter 27. Fibrosis & Cirrhosis    ............................................................................................................................................\n",
            "322\n",
            "Chapter 28. Hepatitis    ..................................................................................................................................................................\n",
            "333\n",
            "Chapter 29. Vascular Disorders of the Liver    .....................................................................................................................\n",
            "341\n",
            "Chapter 30. Liver Masses & Granulomas    ..........................................................................................................................\n",
            "348\n",
            "Chapter 31. Gallbladder & Bile Duct Disorders    ...............................................................................................................\n",
            "362\n",
            "4 - Musculoskeletal & Connective Tissue Disorders    .........................................................................................\n",
            "362\n",
            "Chapter 32. Approach to the Patient With Joint Disease    ............................................................................................\n",
            "373\n",
            "Chapter 33. Autoimmune Rheumatic Disorders    ..............................................................................................................\n",
            "391\n",
            "Chapter 34. Vasculitis    .................................................................................................................................................................\n",
            "416\n",
            "Chapter 35. Joint Disorders    .....................................................................................................................................................\n",
            "435\n",
            "Chapter 36. Crystal-Induced Arthritides    ..............................................................................................................................\n",
            "443\n",
            "Chapter 37. Osteoporosis    .........................................................................................................................................................\n",
            "448\n",
            "Chapter 38. Paget's Disease of Bone    ..................................................................................................................................\n",
            "451\n",
            "Chapter 39. Osteonecrosis    .......................................................................................................................................................\n",
            "455\n",
            "Chapter 40. Infections of Joints & Bones    ...........................................................................................................................\n",
            "463\n",
            "Chapter 41. Bursa, Muscle & Tendon Disorders    .............................................................................................................\n",
            "470\n",
            "Chapter 42. Neck & Back Pain    ...............................................................................................................................................\n",
            "481\n",
            "Chapter 43. Hand Disorders    ....................................................................................................................................................\n",
            "hanamekonnen2003@gmail.com\n",
            "XWQF01C793\n",
            "This file is meant for personal use by hanamekonnen2003@gmail.com only.\n",
            "Sharing or publishing the contents in part or full is liable for legal action.\n",
            "\n"
          ]
        }
      ]
    },
    {
      "cell_type": "markdown",
      "source": [
        "- The first 3 pages are index"
      ],
      "metadata": {
        "id": "Ikri2WqxxXpN"
      }
    },
    {
      "cell_type": "markdown",
      "metadata": {
        "id": "7-wNNalNxPKT"
      },
      "source": [
        "#### Checking the number of pages"
      ]
    },
    {
      "cell_type": "code",
      "source": [
        "len(medical)\n"
      ],
      "metadata": {
        "id": "-NuC-6SNRT7K",
        "colab": {
          "base_uri": "https://localhost:8080/"
        },
        "outputId": "e1a74a28-f466-4dd5-e431-f1a9730b6782"
      },
      "execution_count": 8,
      "outputs": [
        {
          "output_type": "execute_result",
          "data": {
            "text/plain": [
              "4114"
            ]
          },
          "metadata": {},
          "execution_count": 8
        }
      ]
    },
    {
      "cell_type": "markdown",
      "metadata": {
        "id": "LECMxTH-zB-R"
      },
      "source": [
        "### Data Chunking"
      ]
    },
    {
      "cell_type": "code",
      "source": [
        "text_splitter = RecursiveCharacterTextSplitter.from_tiktoken_encoder(\n",
        "    encoding_name='cl100k_base',\n",
        "    chunk_size=512,\n",
        "    chunk_overlap= 20\n",
        ")"
      ],
      "metadata": {
        "id": "ir9Zi8rKRUmG"
      },
      "execution_count": 9,
      "outputs": []
    },
    {
      "cell_type": "code",
      "source": [
        "document_chunks = pdf_loader.load_and_split(text_splitter)\n"
      ],
      "metadata": {
        "id": "wWF4hENuvEZw"
      },
      "execution_count": 10,
      "outputs": []
    },
    {
      "cell_type": "code",
      "source": [
        "len(document_chunks)\n"
      ],
      "metadata": {
        "colab": {
          "base_uri": "https://localhost:8080/"
        },
        "id": "OgBSAffkvXQg",
        "outputId": "cc85e90c-cd47-4471-c4c6-d9bc99f73dde"
      },
      "execution_count": 11,
      "outputs": [
        {
          "output_type": "execute_result",
          "data": {
            "text/plain": [
              "8492"
            ]
          },
          "metadata": {},
          "execution_count": 11
        }
      ]
    },
    {
      "cell_type": "code",
      "source": [
        "document_chunks[0].page_content\n"
      ],
      "metadata": {
        "colab": {
          "base_uri": "https://localhost:8080/",
          "height": 36
        },
        "id": "X3c2jNFavbZl",
        "outputId": "1eb55c5f-05ca-40b5-993b-096c140a8d6f"
      },
      "execution_count": 12,
      "outputs": [
        {
          "output_type": "execute_result",
          "data": {
            "text/plain": [
              "'hanamekonnen2003@gmail.com\\nXWQF01C793\\nfor personal use by hanamekonnen2003\\nshing the contents in part or full is liable'"
            ],
            "application/vnd.google.colaboratory.intrinsic+json": {
              "type": "string"
            }
          },
          "metadata": {},
          "execution_count": 12
        }
      ]
    },
    {
      "cell_type": "code",
      "source": [
        "document_chunks[-2].page_content\n"
      ],
      "metadata": {
        "colab": {
          "base_uri": "https://localhost:8080/",
          "height": 108
        },
        "id": "1qaowZZUvgW3",
        "outputId": "35ea7fe3-50c1-483b-e9cc-b8f6c5128f57"
      },
      "execution_count": 13,
      "outputs": [
        {
          "output_type": "execute_result",
          "data": {
            "text/plain": [
              "'Y\\nYaws 1266-1267\\nforest 1379\\nY chromosome 3373 (see also Genetic)\\nabnormalities of 3005\\nYeast infection (see also Fungal infection)\\nvaginal 2542, 2544, 2545\\nYellow fever 1400, 1429, 1437\\nhepatic inflammation in 248\\nvaccine against 1172, 1437, 3441\\nYellow nail syndrome 732, 1995\\npleural effusion in 1997\\nYellow skin (see Jaundice)\\nYersinia infection 1167, 1256-1257\\nY. enterocolitica infection 147\\nY. pestis infection 1924\\nYew poisoning 3338\\nYips 1762\\nYo, antibodies to 1056\\nYolk sac tumor 2476\\nThe Merck Manual of Diagnosis & Therapy, 19th Edition\\nY\\n4103\\nhanamekonnen2003@gmail.com\\nXWQF01C793\\nThis file is meant for personal use by hanamekonnen2003@gmail.com only.\\nSharing or publishing the contents in part or full is liable for legal action.'"
            ],
            "application/vnd.google.colaboratory.intrinsic+json": {
              "type": "string"
            }
          },
          "metadata": {},
          "execution_count": 13
        }
      ]
    },
    {
      "cell_type": "code",
      "source": [
        "document_chunks[-1].page_content\n"
      ],
      "metadata": {
        "colab": {
          "base_uri": "https://localhost:8080/",
          "height": 127
        },
        "id": "pQpal0eTvqOu",
        "outputId": "42b64118-8afe-45f6-a254-0c5c6fdd43a5"
      },
      "execution_count": 14,
      "outputs": [
        {
          "output_type": "execute_result",
          "data": {
            "text/plain": [
              "\"Z\\nZafirlukast 1879\\nZalcitabine 1451\\nin children 2854\\nZaleplon 1709\\nZanamivir 1407\\nin influenza 1407, 1929\\nZAP-70 (zeta-associated protein 70) deficiency 1092, 1108\\nZavanelli maneuver 2680\\nZellweger syndrome 2383, 3023\\nZenker's diverticulum 125\\nZidovudine 1451, 1453\\nin children 2854\\nZileuton 1881\\nin asthma 1880\\nZinc 49, 55, 3431-3432\\nin common cold 1405\\ndeficiency of 11, 49, 55\\nin dermatophytoses 705\\npoisoning with 3328, 3353\\nrecommended dietary allowances for 50\\nreference values for 3499\\ntoxicity of 49, 55\\ncopper deficiency and 49\\nin Wilson's disease 52\\nZinc oxide 2233\\ngelatin formulation of 646, 672\\nZinc pyrithione 647\\nZinc shakes 55\\nZipper injury 3239, 3240\\nZiprasidone\\nin agitation 1492\\nin bipolar disorder 3059\\npoisoning with 3347\\nin schizophrenia 1566\\nZoledronate 359, 361, 848\\nZollinger-Ellison syndrome 95, 199, 200-201, 910\\nmastocytosis vs 1125\\nMenetrier's disease vs 132\\npeptic ulcer disease vs 134\\nZolmitriptan 1721\\nZolpidem 1709, 3103\\nZonisamide 1701\\nZoonotic diseases, cutaneous 718\\nZoophobia 1498\\nZoster (see Herpes zoster virus infection)\\nZygomycosis 1332\\nThe Merck Manual of Diagnosis & Therapy, 19th Edition\\nZ\\n4104\\nhanamekonnen2003@gmail.com\\nXWQF01C793\\nThis file is meant for personal use by hanamekonnen2003@gmail.com only.\\nSharing or publishing the contents in part or full is liable for legal action.\""
            ],
            "application/vnd.google.colaboratory.intrinsic+json": {
              "type": "string"
            }
          },
          "metadata": {},
          "execution_count": 14
        }
      ]
    },
    {
      "cell_type": "markdown",
      "metadata": {
        "id": "BvHVejcWz0Bl"
      },
      "source": [
        "### Embedding"
      ]
    },
    {
      "cell_type": "code",
      "source": [
        "embedding_model = SentenceTransformerEmbeddings(model_name='thenlper/gte-large')\n"
      ],
      "metadata": {
        "id": "R3CAgoUeRVLa",
        "colab": {
          "base_uri": "https://localhost:8080/"
        },
        "outputId": "b4dd19c1-3389-4fac-8b75-3c5a33731f69"
      },
      "execution_count": 15,
      "outputs": [
        {
          "output_type": "stream",
          "name": "stderr",
          "text": [
            "/usr/local/lib/python3.11/dist-packages/huggingface_hub/utils/_token.py:89: UserWarning: \n",
            "The secret `HF_TOKEN` does not exist in your Colab secrets.\n",
            "To authenticate with the Hugging Face Hub, create a token in your settings tab (https://huggingface.co/settings/tokens), set it as secret in your Google Colab and restart your session.\n",
            "You will be able to reuse this secret in all of your notebooks.\n",
            "Please note that authentication is recommended but still optional to access public models or datasets.\n",
            "  warnings.warn(\n"
          ]
        }
      ]
    },
    {
      "cell_type": "code",
      "source": [
        "embedding_1 = embedding_model.embed_query(document_chunks[0].page_content)\n",
        "embedding_2 = embedding_model.embed_query(document_chunks[1].page_content)"
      ],
      "metadata": {
        "id": "0phcWmwuw-aC"
      },
      "execution_count": 16,
      "outputs": []
    },
    {
      "cell_type": "code",
      "source": [
        "print(\"Dimension of the embedding vector \",len(embedding_1))\n",
        "len(embedding_1)==len(embedding_2)"
      ],
      "metadata": {
        "colab": {
          "base_uri": "https://localhost:8080/"
        },
        "id": "ymZiyd0TxCyL",
        "outputId": "cba73224-1130-40af-fc83-b73a2b186829"
      },
      "execution_count": 17,
      "outputs": [
        {
          "output_type": "stream",
          "name": "stdout",
          "text": [
            "Dimension of the embedding vector  1024\n"
          ]
        },
        {
          "output_type": "execute_result",
          "data": {
            "text/plain": [
              "True"
            ]
          },
          "metadata": {},
          "execution_count": 17
        }
      ]
    },
    {
      "cell_type": "markdown",
      "source": [
        "- The embedding model generates a uniform-length vector representation, regardless of how many chunks are processed.\n",
        "- This consistency is useful for performing meaningful similarity comparisons between them."
      ],
      "metadata": {
        "id": "QbU5oFN8yvvY"
      }
    },
    {
      "cell_type": "markdown",
      "metadata": {
        "id": "qiKCOv4X0d7B"
      },
      "source": [
        "### Vector Database"
      ]
    },
    {
      "cell_type": "code",
      "source": [
        "out_dir = 'medical_db'\n",
        "\n",
        "if not os.path.exists(out_dir):\n",
        "  os.makedirs(out_dir)"
      ],
      "metadata": {
        "id": "vHHt1MQQRVzs"
      },
      "execution_count": 18,
      "outputs": []
    },
    {
      "cell_type": "code",
      "source": [
        "vectorstore = Chroma.from_documents(\n",
        "    document_chunks,\n",
        "    embedding_model,\n",
        "    persist_directory=out_dir\n",
        ")"
      ],
      "metadata": {
        "id": "Eup9FmB2xSAL"
      },
      "execution_count": 19,
      "outputs": []
    },
    {
      "cell_type": "code",
      "source": [
        "vectorstore = Chroma(persist_directory=out_dir,embedding_function=embedding_model)\n"
      ],
      "metadata": {
        "id": "nhVt_MUQz_QQ"
      },
      "execution_count": 20,
      "outputs": []
    },
    {
      "cell_type": "code",
      "source": [
        "vectorstore.embeddings\n"
      ],
      "metadata": {
        "colab": {
          "base_uri": "https://localhost:8080/"
        },
        "id": "lQXWd9no0N8i",
        "outputId": "52acbe02-aa42-4088-a0a5-7bd0b0dfb5af"
      },
      "execution_count": 21,
      "outputs": [
        {
          "output_type": "execute_result",
          "data": {
            "text/plain": [
              "HuggingFaceEmbeddings(client=SentenceTransformer(\n",
              "  (0): Transformer({'max_seq_length': 512, 'do_lower_case': False}) with Transformer model: BertModel \n",
              "  (1): Pooling({'word_embedding_dimension': 1024, 'pooling_mode_cls_token': False, 'pooling_mode_mean_tokens': True, 'pooling_mode_max_tokens': False, 'pooling_mode_mean_sqrt_len_tokens': False, 'pooling_mode_weightedmean_tokens': False, 'pooling_mode_lasttoken': False})\n",
              "  (2): Normalize()\n",
              "), model_name='thenlper/gte-large', cache_folder=None, model_kwargs={}, encode_kwargs={}, multi_process=False)"
            ]
          },
          "metadata": {},
          "execution_count": 21
        }
      ]
    },
    {
      "cell_type": "code",
      "source": [
        "vectorstore.similarity_search(\" effective treatments or solutions for addressing sudden patchy hair loss, commonly seen as localized bald spots on the scalp, and the possible causes behind it \",k=2)\n"
      ],
      "metadata": {
        "id": "wBlQUGx3RWUD",
        "colab": {
          "base_uri": "https://localhost:8080/"
        },
        "outputId": "67db4c53-de8e-40c6-bd1f-712b3ed91ce1"
      },
      "execution_count": 22,
      "outputs": [
        {
          "output_type": "execute_result",
          "data": {
            "text/plain": [
              "[Document(page_content='corticosteroids, retinoids, or immunosuppressants.\\nHair loss due to chemotherapy is temporary and is best treated with a wig; when hair regrows, it may be\\ndifferent in color and texture from the original hair. Hair loss due to telogen effluvium or anagen effluvium\\nis usually temporary as well and abates after the precipitating agent is eliminated.\\nKey Points\\n• Androgenetic alopecia (male-pattern and female-pattern hair loss) is the most common type of hair loss.\\n• Concomitant virilization in women or scarring hair loss should prompt a thorough evaluation for the\\nunderlying disorder.\\n• Microscopic hair examination or scalp biopsy may be required for definitive diagnosis.\\nAlopecia Areata\\nAlopecia areata is sudden patchy hair loss in people with no obvious skin or systemic disorder.\\nThe scalp and beard are most frequently affected, but any hairy area may be involved. Hair loss may\\naffect most or all of the body (alopecia universalis). Alopecia areata is thought to be an autoimmune\\ndisorder affecting genetically susceptible people exposed to unclear environmental triggers, such as\\nThe Merck Manual of Diagnosis & Therapy, 19th Edition\\nChapter 86. Hair Disorders\\n849\\nhanamekonnen2003@gmail.com\\nXWQF01C793\\nThis file is meant for personal use by hanamekonnen2003@gmail.com only.\\nSharing or publishing the contents in part or full is liable for legal action.', metadata={'author': '', 'creationDate': 'D:20120615054440Z', 'creator': 'Atop CHM to PDF Converter', 'file_path': '/content/drive/My Drive/Colab Notebooks/medical_diagnosis_manual.pdf', 'format': 'PDF 1.7', 'keywords': '', 'modDate': 'D:20250522151429Z', 'page': 858, 'producer': 'pdf-lib (https://github.com/Hopding/pdf-lib)', 'source': '/content/drive/My Drive/Colab Notebooks/medical_diagnosis_manual.pdf', 'subject': '', 'title': 'The Merck Manual of Diagnosis & Therapy, 19th Edition', 'total_pages': 4114, 'trapped': ''}),\n",
              " Document(page_content='corticosteroids, retinoids, or immunosuppressants.\\nHair loss due to chemotherapy is temporary and is best treated with a wig; when hair regrows, it may be\\ndifferent in color and texture from the original hair. Hair loss due to telogen effluvium or anagen effluvium\\nis usually temporary as well and abates after the precipitating agent is eliminated.\\nKey Points\\n• Androgenetic alopecia (male-pattern and female-pattern hair loss) is the most common type of hair loss.\\n• Concomitant virilization in women or scarring hair loss should prompt a thorough evaluation for the\\nunderlying disorder.\\n• Microscopic hair examination or scalp biopsy may be required for definitive diagnosis.\\nAlopecia Areata\\nAlopecia areata is sudden patchy hair loss in people with no obvious skin or systemic disorder.\\nThe scalp and beard are most frequently affected, but any hairy area may be involved. Hair loss may\\naffect most or all of the body (alopecia universalis). Alopecia areata is thought to be an autoimmune\\ndisorder affecting genetically susceptible people exposed to unclear environmental triggers, such as\\nThe Merck Manual of Diagnosis & Therapy, 19th Edition\\nChapter 86. Hair Disorders\\n849\\nhanamekonnen2003@gmail.com\\nXWQF01C793\\nThis file is meant for personal use by hanamekonnen2003@gmail.com only.\\nSharing or publishing the contents in part or full is liable for legal action.', metadata={'author': '', 'creationDate': 'D:20120615054440Z', 'creator': 'Atop CHM to PDF Converter', 'file_path': '/content/drive/My Drive/Colab Notebooks/medical_diagnosis_manual.pdf', 'format': 'PDF 1.7', 'keywords': '', 'modDate': 'D:20250522151429Z', 'page': 858, 'producer': 'pdf-lib (https://github.com/Hopding/pdf-lib)', 'source': '/content/drive/My Drive/Colab Notebooks/medical_diagnosis_manual.pdf', 'subject': '', 'title': 'The Merck Manual of Diagnosis & Therapy, 19th Edition', 'total_pages': 4114, 'trapped': ''})]"
            ]
          },
          "metadata": {},
          "execution_count": 22
        }
      ]
    },
    {
      "cell_type": "markdown",
      "source": [
        "- From the retrieved chunks, we observe that all the chunks are related to the key terms"
      ],
      "metadata": {
        "id": "nkIPJWkrzI9x"
      }
    },
    {
      "cell_type": "markdown",
      "source": [
        "### Retriever"
      ],
      "metadata": {
        "id": "2-oNvL6705BJ"
      }
    },
    {
      "cell_type": "code",
      "source": [
        "retriever = vectorstore.as_retriever(\n",
        "    search_type='similarity',\n",
        "    search_kwargs={'k': 2}\n",
        ")"
      ],
      "metadata": {
        "id": "omvkoePh1k4-"
      },
      "execution_count": 23,
      "outputs": []
    },
    {
      "cell_type": "code",
      "source": [
        "rel_docs = retriever.get_relevant_documents(\"What are the effective treatments or solutions for addressing sudden patchy hair loss, commonly seen as localized bald spots on the scalp, and what could be the possible causes behind it?\")\n",
        "rel_docs"
      ],
      "metadata": {
        "colab": {
          "base_uri": "https://localhost:8080/"
        },
        "id": "LBjpQ-ii2KQx",
        "outputId": "829402c4-c5c4-40ee-d9cf-080877f7f876"
      },
      "execution_count": 24,
      "outputs": [
        {
          "output_type": "execute_result",
          "data": {
            "text/plain": [
              "[Document(page_content='corticosteroids, retinoids, or immunosuppressants.\\nHair loss due to chemotherapy is temporary and is best treated with a wig; when hair regrows, it may be\\ndifferent in color and texture from the original hair. Hair loss due to telogen effluvium or anagen effluvium\\nis usually temporary as well and abates after the precipitating agent is eliminated.\\nKey Points\\n• Androgenetic alopecia (male-pattern and female-pattern hair loss) is the most common type of hair loss.\\n• Concomitant virilization in women or scarring hair loss should prompt a thorough evaluation for the\\nunderlying disorder.\\n• Microscopic hair examination or scalp biopsy may be required for definitive diagnosis.\\nAlopecia Areata\\nAlopecia areata is sudden patchy hair loss in people with no obvious skin or systemic disorder.\\nThe scalp and beard are most frequently affected, but any hairy area may be involved. Hair loss may\\naffect most or all of the body (alopecia universalis). Alopecia areata is thought to be an autoimmune\\ndisorder affecting genetically susceptible people exposed to unclear environmental triggers, such as\\nThe Merck Manual of Diagnosis & Therapy, 19th Edition\\nChapter 86. Hair Disorders\\n849\\nhanamekonnen2003@gmail.com\\nXWQF01C793\\nThis file is meant for personal use by hanamekonnen2003@gmail.com only.\\nSharing or publishing the contents in part or full is liable for legal action.', metadata={'author': '', 'creationDate': 'D:20120615054440Z', 'creator': 'Atop CHM to PDF Converter', 'file_path': '/content/drive/My Drive/Colab Notebooks/medical_diagnosis_manual.pdf', 'format': 'PDF 1.7', 'keywords': '', 'modDate': 'D:20250522151429Z', 'page': 858, 'producer': 'pdf-lib (https://github.com/Hopding/pdf-lib)', 'source': '/content/drive/My Drive/Colab Notebooks/medical_diagnosis_manual.pdf', 'subject': '', 'title': 'The Merck Manual of Diagnosis & Therapy, 19th Edition', 'total_pages': 4114, 'trapped': ''}),\n",
              " Document(page_content='corticosteroids, retinoids, or immunosuppressants.\\nHair loss due to chemotherapy is temporary and is best treated with a wig; when hair regrows, it may be\\ndifferent in color and texture from the original hair. Hair loss due to telogen effluvium or anagen effluvium\\nis usually temporary as well and abates after the precipitating agent is eliminated.\\nKey Points\\n• Androgenetic alopecia (male-pattern and female-pattern hair loss) is the most common type of hair loss.\\n• Concomitant virilization in women or scarring hair loss should prompt a thorough evaluation for the\\nunderlying disorder.\\n• Microscopic hair examination or scalp biopsy may be required for definitive diagnosis.\\nAlopecia Areata\\nAlopecia areata is sudden patchy hair loss in people with no obvious skin or systemic disorder.\\nThe scalp and beard are most frequently affected, but any hairy area may be involved. Hair loss may\\naffect most or all of the body (alopecia universalis). Alopecia areata is thought to be an autoimmune\\ndisorder affecting genetically susceptible people exposed to unclear environmental triggers, such as\\nThe Merck Manual of Diagnosis & Therapy, 19th Edition\\nChapter 86. Hair Disorders\\n849\\nhanamekonnen2003@gmail.com\\nXWQF01C793\\nThis file is meant for personal use by hanamekonnen2003@gmail.com only.\\nSharing or publishing the contents in part or full is liable for legal action.', metadata={'author': '', 'creationDate': 'D:20120615054440Z', 'creator': 'Atop CHM to PDF Converter', 'file_path': '/content/drive/My Drive/Colab Notebooks/medical_diagnosis_manual.pdf', 'format': 'PDF 1.7', 'keywords': '', 'modDate': 'D:20250522151429Z', 'page': 858, 'producer': 'pdf-lib (https://github.com/Hopding/pdf-lib)', 'source': '/content/drive/My Drive/Colab Notebooks/medical_diagnosis_manual.pdf', 'subject': '', 'title': 'The Merck Manual of Diagnosis & Therapy, 19th Edition', 'total_pages': 4114, 'trapped': ''})]"
            ]
          },
          "metadata": {},
          "execution_count": 24
        }
      ]
    },
    {
      "cell_type": "markdown",
      "source": [
        "- We can observe that the two relevant chunks contain the answer to the query.  \n",
        "- If we increase the **`k`** value, there is a chance that we might find the answer in even more chunks."
      ],
      "metadata": {
        "id": "PcbdXVg9zW8S"
      }
    },
    {
      "cell_type": "markdown",
      "metadata": {
        "id": "TkIteX4m6mny"
      },
      "source": [
        "### Response Function"
      ]
    },
    {
      "cell_type": "code",
      "source": [
        "def generate_rag_response(user_input,k=3,max_tokens=500,temperature=0,top_p=0.95,top_k=50):\n",
        "    global qna_system_message,qna_user_message_template\n",
        "    # Retrieve relevant document chunks\n",
        "    relevant_document_chunks = retriever.get_relevant_documents(query=user_input,k=k)\n",
        "    context_list = [d.page_content for d in relevant_document_chunks]\n",
        "\n",
        "    # Combine document chunks into a single context\n",
        "    context_for_query = \". \".join(context_list)\n",
        "\n",
        "    user_message = qna_user_message_template.replace('{context}', context_for_query)\n",
        "    user_message = user_message.replace('{question}', user_input)\n",
        "\n",
        "    prompt = qna_system_message + '\\n' + user_message\n",
        "\n",
        "    # Generate the response\n",
        "    try:\n",
        "        response = llm(\n",
        "                  prompt=prompt,\n",
        "                  max_tokens=max_tokens,\n",
        "                  temperature=temperature,\n",
        "                  top_p=top_p,\n",
        "                  top_k=top_k\n",
        "                  )\n",
        "\n",
        "        # Extract and print the model's response\n",
        "        response = response['choices'][0]['text'].strip()\n",
        "    except Exception as e:\n",
        "        response = f'Sorry, I encountered the following error: \\n {e}'\n",
        "\n",
        "    return response"
      ],
      "metadata": {
        "id": "5jFvGnOJRXZx"
      },
      "execution_count": 25,
      "outputs": []
    },
    {
      "cell_type": "markdown",
      "source": [
        "## Downloading and Loading the model"
      ],
      "metadata": {
        "id": "k9pcoxiu3KIk"
      }
    },
    {
      "cell_type": "code",
      "source": [
        "model_name_or_path = \"TheBloke/Mistral-7B-Instruct-v0.2-GGUF\"\n",
        "model_basename = \"mistral-7b-instruct-v0.2.Q6_K.gguf\""
      ],
      "metadata": {
        "id": "RGYbeQuy3L1K"
      },
      "execution_count": 26,
      "outputs": []
    },
    {
      "cell_type": "code",
      "source": [
        "model_path = hf_hub_download(\n",
        "    repo_id=model_name_or_path,\n",
        "    filename=model_basename\n",
        ")"
      ],
      "metadata": {
        "id": "toKK4GsU3TQe"
      },
      "execution_count": 27,
      "outputs": []
    },
    {
      "cell_type": "code",
      "source": [
        "#uncomment the below snippet of code if the runtime is connected to GPU.\n",
        "llm = Llama(\n",
        "    model_path=model_path,\n",
        "    n_ctx=2300,\n",
        "    n_gpu_layers=38,\n",
        "    n_batch=512\n",
        ")"
      ],
      "metadata": {
        "colab": {
          "base_uri": "https://localhost:8080/"
        },
        "id": "BXs-4usq5RXY",
        "outputId": "13908a2a-80e4-4447-8234-f0150255983b"
      },
      "execution_count": 28,
      "outputs": [
        {
          "output_type": "stream",
          "name": "stderr",
          "text": [
            "AVX = 1 | AVX2 = 1 | AVX512 = 0 | AVX512_VBMI = 0 | AVX512_VNNI = 0 | FMA = 1 | NEON = 0 | ARM_FMA = 0 | F16C = 1 | FP16_VA = 0 | WASM_SIMD = 0 | BLAS = 1 | SSE3 = 1 | SSSE3 = 1 | VSX = 0 | \n"
          ]
        }
      ]
    },
    {
      "cell_type": "code",
      "source": [
        "llm(\"What are the effective treatments or solutions for addressing sudden patchy hair loss, commonly seen as localized bald spots on the scalp, and what could be the possible causes behind it?\")['choices'][0]['text']\n"
      ],
      "metadata": {
        "colab": {
          "base_uri": "https://localhost:8080/",
          "height": 72
        },
        "id": "RoNQRAAE5npn",
        "outputId": "5d91bc1d-8d4b-4fc1-8212-8f2794c452c9"
      },
      "execution_count": 29,
      "outputs": [
        {
          "output_type": "execute_result",
          "data": {
            "text/plain": [
              "\"\\n\\nSudden patchy hair loss, also known as alopecia areata, is a common autoimmune disorder that affects the hair follicles, leading to hair loss in small patches on the scalp or other parts of the body. The exact cause of alopecia areata is not fully understood, but it is believed to be related to a dysfunction of the immune system that causes the body's immune cells to attack the hair follicles.\\n\\nThere is no single effective treatment for alopecia areata that works for everyone, as the response to treatments can vary greatly from\""
            ],
            "application/vnd.google.colaboratory.intrinsic+json": {
              "type": "string"
            }
          },
          "metadata": {},
          "execution_count": 29
        }
      ]
    },
    {
      "cell_type": "markdown",
      "source": [
        "- The response feels broad and possibly sourced from external content. Let's tailor it to our specific context and ensure it directly addresses our query."
      ],
      "metadata": {
        "id": "J2mYlI5wztIJ"
      }
    },
    {
      "cell_type": "markdown",
      "source": [
        "## System and User Prompt Template"
      ],
      "metadata": {
        "id": "G-F9NH4K5-Ba"
      }
    },
    {
      "cell_type": "code",
      "source": [
        "qna_system_message = \"\"\"\n",
        "You are an assistant whose work is to review the report and provide the appropriate answers from the context.\n",
        "User input will have the context required by you to answer user questions.\n",
        "This context will begin with the token: ###Context.\n",
        "The context contains references to specific portions of a document relevant to the user query.\n",
        "\n",
        "User questions will begin with the token: ###Question.\n",
        "\n",
        "Please answer only using the context provided in the input. Do not mention anything about the context in your final answer.\n",
        "\n",
        "If the answer is not found in the context, respond \"I don't know\".\n",
        "\"\"\""
      ],
      "metadata": {
        "id": "29m0P8Am59oL"
      },
      "execution_count": 30,
      "outputs": []
    },
    {
      "cell_type": "code",
      "source": [
        "qna_user_message_template = \"\"\"\n",
        "###Context\n",
        "Here are some documents that are relevant to the question mentioned below.\n",
        "{context}\n",
        "\n",
        "###Question\n",
        "{question}\n",
        "\"\"\""
      ],
      "metadata": {
        "id": "-cgnBXS36XpD"
      },
      "execution_count": 31,
      "outputs": []
    },
    {
      "cell_type": "markdown",
      "source": [
        "## Response Function"
      ],
      "metadata": {
        "id": "FIcDo7QT6c0Y"
      }
    },
    {
      "cell_type": "code",
      "source": [
        "def generate_rag_response(user_input,k=3,max_tokens=500,temperature=0,top_p=0.95,top_k=50):\n",
        "    global qna_system_message,qna_user_message_template\n",
        "    # Retrieve relevant document chunks\n",
        "    relevant_document_chunks = retriever.get_relevant_documents(query=user_input,k=k)\n",
        "    context_list = [d.page_content for d in relevant_document_chunks]\n",
        "\n",
        "    # Combine document chunks into a single context\n",
        "    context_for_query = \". \".join(context_list)\n",
        "\n",
        "    user_message = qna_user_message_template.replace('{context}', context_for_query)\n",
        "    user_message = user_message.replace('{question}', user_input)\n",
        "\n",
        "    prompt = qna_system_message + '\\n' + user_message\n",
        "\n",
        "    # Generate the response\n",
        "    try:\n",
        "        response = llm(\n",
        "                  prompt=prompt,\n",
        "                  max_tokens=max_tokens,\n",
        "                  temperature=temperature,\n",
        "                  top_p=top_p,\n",
        "                  top_k=top_k\n",
        "                  )\n",
        "\n",
        "        # Extract and print the model's response\n",
        "        response = response['choices'][0]['text'].strip()\n",
        "    except Exception as e:\n",
        "        response = f'Sorry, I encountered the following error: \\n {e}'\n",
        "\n",
        "    return response"
      ],
      "metadata": {
        "id": "wzw8zaTx6dkt"
      },
      "execution_count": 32,
      "outputs": []
    },
    {
      "cell_type": "markdown",
      "source": [
        "## Question Answering using RAG"
      ],
      "metadata": {
        "id": "ffP1SRYbPQHN"
      }
    },
    {
      "cell_type": "markdown",
      "metadata": {
        "id": "JjajBEj06B0E"
      },
      "source": [
        "### Query 1: What is the protocol for managing sepsis in a critical care unit?"
      ]
    },
    {
      "cell_type": "code",
      "source": [
        "user_input = \" What is the protocol for managing sepsis in a critical care unit? \"\n",
        "print(generate_rag_response(user_input))"
      ],
      "metadata": {
        "id": "Nlo9sMpPRbTP",
        "colab": {
          "base_uri": "https://localhost:8080/"
        },
        "outputId": "7d574bbd-aa7f-4666-b703-ec962aa31460"
      },
      "execution_count": 33,
      "outputs": [
        {
          "output_type": "stream",
          "name": "stderr",
          "text": [
            "Llama.generate: prefix-match hit\n"
          ]
        },
        {
          "output_type": "stream",
          "name": "stdout",
          "text": [
            "I don't know. The context does not provide information on the protocol for managing sepsis in a critical care unit.\n"
          ]
        }
      ]
    },
    {
      "cell_type": "markdown",
      "source": [
        "- The system prompt clearly states that the query should only be answered if the information can be found within the provided context.\n",
        "- As intended, the model performed effectively by avoiding fabricated responses and staying grounded in the given data."
      ],
      "metadata": {
        "id": "iWZvGhkb0j7P"
      }
    },
    {
      "cell_type": "markdown",
      "metadata": {
        "id": "QDw8zXuq6B0F"
      },
      "source": [
        "### Query 2: What are the common symptoms for appendicitis, and can it be cured via medicine? If not, what surgical procedure should be followed to treat it?"
      ]
    },
    {
      "cell_type": "code",
      "source": [
        "user_input = \" What are the common symptoms for appendicitis, and can it be cured via medicine? If not, what surgical procedure should be followed to treat it? \"\n",
        "print(generate_rag_response(user_input))"
      ],
      "metadata": {
        "id": "PVReF4G8RbzR",
        "colab": {
          "base_uri": "https://localhost:8080/"
        },
        "outputId": "28bcfe73-fe8d-411a-ab24-7416d50db9e3"
      },
      "execution_count": 34,
      "outputs": [
        {
          "output_type": "stream",
          "name": "stderr",
          "text": [
            "Llama.generate: prefix-match hit\n"
          ]
        },
        {
          "output_type": "stream",
          "name": "stdout",
          "text": [
            "The common symptoms for appendicitis include pain in the lower right abdomen, loss of appetite, nausea or vomiting, fever, and a feeling of being sick. Appendicitis cannot be cured via medicine alone as it requires surgical removal of the appendix. The treatment for appendicitis is open or laparoscopic appendectomy.\n"
          ]
        }
      ]
    },
    {
      "cell_type": "markdown",
      "metadata": {
        "id": "TggYyQPL6B0G"
      },
      "source": [
        "### Query 3: What are the effective treatments or solutions for addressing sudden patchy hair loss, commonly seen as localized bald spots on the scalp, and what could be the possible causes behind it?"
      ]
    },
    {
      "cell_type": "code",
      "source": [
        "user_input = \" What are the effective treatments or solutions for addressing sudden patchy hair loss, commonly seen as localized bald spots on the scalp, and what could be the possible causes behind it? \"\n",
        "print(generate_rag_response(user_input))"
      ],
      "metadata": {
        "id": "0aRbadGtRcX0",
        "colab": {
          "base_uri": "https://localhost:8080/"
        },
        "outputId": "c54a485d-29ff-4035-d4e0-98b072811d5c"
      },
      "execution_count": 35,
      "outputs": [
        {
          "output_type": "stream",
          "name": "stderr",
          "text": [
            "Llama.generate: prefix-match hit\n"
          ]
        },
        {
          "output_type": "stream",
          "name": "stdout",
          "text": [
            "Based on the context provided, the condition being described is Alopecia Areata. The context mentions that it is a type of hair loss characterized by sudden patchy hair loss in people with no obvious skin or systemic disorder. It is thought to be an autoimmune disorder affecting genetically susceptible people exposed to unclear environmental triggers.\n",
            "\n",
            "The context also suggests that corticosteroids, retinoids, or immunosuppressants may be used as treatments for hair loss due to various causes, including Alopecia Areata. However, it is important to note that the context does not provide specific information on the effectiveness of these treatments for Alopecia Areata or any potential side effects.\n",
            "\n",
            "Therefore, based on the context provided, the effective treatments or solutions for addressing sudden patchy hair loss, commonly seen as localized bald spots on the scalp, could be corticosteroids, retinoids, or immunosuppressants. The possible causes behind it are thought to be an autoimmune disorder affecting genetically susceptible people exposed to unclear environmental triggers.\n"
          ]
        }
      ]
    },
    {
      "cell_type": "markdown",
      "metadata": {
        "id": "1TgxdI-_6B0G"
      },
      "source": [
        "### Query 4:  What treatments are recommended for a person who has sustained a physical injury to brain tissue, resulting in temporary or permanent impairment of brain function?"
      ]
    },
    {
      "cell_type": "code",
      "source": [
        "user_input = \" What treatments are recommended for a person who has sustained a physical injury to brain tissue, resulting in temporary or permanent impairment of brain function? \"\n",
        "print(generate_rag_response(user_input))"
      ],
      "metadata": {
        "id": "0vzRX1TcRc29",
        "colab": {
          "base_uri": "https://localhost:8080/"
        },
        "outputId": "eccebc9a-bbab-4005-f404-bd46259a416d"
      },
      "execution_count": 36,
      "outputs": [
        {
          "output_type": "stream",
          "name": "stderr",
          "text": [
            "Llama.generate: prefix-match hit\n"
          ]
        },
        {
          "output_type": "stream",
          "name": "stdout",
          "text": [
            "Answer: The initial treatment for a person with traumatic brain injury (TBI) includes ensuring a reliable airway and maintaining adequate ventilation, oxygenation, and blood pressure. Surgery may be needed in patients with more severe injuries to place monitors to track and treat intracranial pressure, decompress the brain if intracranial pressure is increased, or remove intracranial hematomas. In the first few days after the injury, maintaining adequate brain perfusion and oxygenation and preventing complications of altered sensorium are important. Subsequently, many patients require rehabilitation.\n"
          ]
        }
      ]
    },
    {
      "cell_type": "markdown",
      "metadata": {
        "id": "FlHXYCkm6B0H"
      },
      "source": [
        "### Query 5: What are the necessary precautions and treatment steps for a person who has fractured their leg during a hiking trip, and what should be considered for their care and recovery?"
      ]
    },
    {
      "cell_type": "code",
      "source": [
        "user_input = \" What are the necessary precautions and treatment steps for a person who has fractured their leg during a hiking trip, and what should be considered for their care and recovery? \"\n",
        "print(generate_rag_response(user_input))"
      ],
      "metadata": {
        "id": "sarpUibcRdhq",
        "colab": {
          "base_uri": "https://localhost:8080/"
        },
        "outputId": "f0c4fe81-c943-49ce-d15f-1e71b1cf9070"
      },
      "execution_count": 37,
      "outputs": [
        {
          "output_type": "stream",
          "name": "stderr",
          "text": [
            "Llama.generate: prefix-match hit\n"
          ]
        },
        {
          "output_type": "stream",
          "name": "stdout",
          "text": [
            "Based on the context provided, here's the answer:\n",
            "\n",
            "The necessary precautions and treatment steps for a person who has fractured their leg during a hiking trip include elevating the injured limb above the heart for the first two days to minimize swelling. After 48 hours, periodic application of warmth using a heating pad for 15 to 20 minutes may relieve pain and speed healing. Immobilization is necessary to prevent further injury and facilitate healing, with joints proximal and distal to the injury also being immobilized. A cast is usually used for fractures or other injuries that require weeks of immobilization. Patients with casts should be given written instructions to keep the cast dry, never put an object inside the cast, inspect the cast's edges and skin around the cast every day and apply lotion to any red or sore areas, and pad any rough edges with soft adhesive tape, cloth, or other soft material to prevent the cast's edges. It is important to note that severe swelling under a cast can contribute to compartment syndrome, so if it is likely, the cast (and all padding) may be cut open from end to end medially and laterally (bivalved).\n"
          ]
        }
      ]
    },
    {
      "cell_type": "markdown",
      "source": [
        "- All the answers are clear, concise, and focused, without any unnecessary information.  "
      ],
      "metadata": {
        "id": "WIlloa6q03Zj"
      }
    },
    {
      "cell_type": "markdown",
      "source": [
        "## Fine-tuning"
      ],
      "metadata": {
        "id": "K7TYrqycEITB"
      }
    },
    {
      "cell_type": "markdown",
      "metadata": {
        "id": "8zQfwOIw-Fet"
      },
      "source": [
        "### Query 1: What is the protocol for managing sepsis in a critical care unit?"
      ]
    },
    {
      "cell_type": "code",
      "source": [
        "user_input = \" What is the protocol for managing sepsis in a critical care unit? \"\n",
        "print(generate_rag_response(user_input, temperature=0, top_p=0, top_k=5, max_tokens=50))"
      ],
      "metadata": {
        "colab": {
          "base_uri": "https://localhost:8080/"
        },
        "outputId": "fdb5072d-c6cd-49f4-9edb-a5bdb3c6456c",
        "id": "c6WnxkEx-Fet"
      },
      "execution_count": 38,
      "outputs": [
        {
          "output_type": "stream",
          "name": "stderr",
          "text": [
            "Llama.generate: prefix-match hit\n"
          ]
        },
        {
          "output_type": "stream",
          "name": "stdout",
          "text": [
            "I don't know. The context does not provide information on the protocol for managing sepsis in a critical care unit.\n"
          ]
        }
      ]
    },
    {
      "cell_type": "markdown",
      "metadata": {
        "id": "VM2lkcMU9-Ai"
      },
      "source": [
        "### Query 2: What are the common symptoms for appendicitis, and can it be cured via medicine? If not, what surgical procedure should be followed to treat it?"
      ]
    },
    {
      "cell_type": "code",
      "source": [
        "user_input = \" What are the common symptoms for appendicitis, and can it be cured via medicine? If not, what surgical procedure should be followed to treat it? \"\n",
        "print(generate_rag_response(user_input, temperature=2, top_p=1, top_k=70, max_tokens=500))"
      ],
      "metadata": {
        "colab": {
          "base_uri": "https://localhost:8080/"
        },
        "outputId": "17565749-c3f6-4e6a-c144-f2a04511b98d",
        "id": "VG_Uq52n9-Aj"
      },
      "execution_count": 39,
      "outputs": [
        {
          "output_type": "stream",
          "name": "stderr",
          "text": [
            "Llama.generate: prefix-match hit\n"
          ]
        },
        {
          "output_type": "stream",
          "name": "stdout",
          "text": [
            "From the context, an uninflamed or non-perforated appendix doesn't require any medication inappendicilis cases. Instead of medication, surgery- specifically open or laparoscopic appendectomy- is required to either completely remove an infected or ruptured appendix incase if it's diagnosed with appendicitis. Said procedure aims to delay treatment reduces mortality to a considerable extent. However, for appendicular symptoms and proper diagnosis are inevitable, medical aid provides relief yet, its entirely curative abilities lacking unlike its surgical intervention in counterpart.The possible complicating scenarios of late presentation and formation involving mass affecting pericolelce (appendix site of inflammation, a normally harmless tubinglike appendx in the colon of lower right abdominal wall) include symptoms such re operation at later phases but can escalate to abscesses requiring specialized surgical management and sometimes an extended recovery period (especially,  long - term bowel related recovery).The most suitable indication as surgery's antecedent refers, administration of pre operative iv antibiotics with third-generation Cephalorhans, which enhances better healing of infected body tissues.To encrypt:Appendicitis diagnosis necessitates surgery as the primary course (Open or laparaoscopia), treatment delay causes danger hence 15 per cent negative surgery acceptance deemed acceptable, medication fails to provide thorough Appendicis cure for inflamed swellled tissue in gastroenteriteria thus necessising appendage or whole bowel mass surgical removal/ileocolostomy post extensive conditions. Late phase or late inflammations cause prolonged intesine bowled and painful scenarios following but percutation of inflammatory abcs is viable though longer recoveries; appropriate anta body IV fluid amd pharmacologically beneficial antibotic Cephalurhsis (TGT Third Generation), timliest intiative.From decrypted information, it can be concluded that while appendicitis usually requires surgery to effectively treat the condition given increased severity of situation post complicitation and potential mortality risk when symptoms are not immediately reacted upon – prescription antibiotics can aid or prepare a patient with the surgical intervention and potentially provide amelioration by way of allevatiating symptoms while waiting for optimal surgical timelines based in surgical specialists or hospital systems available schedule,\n"
          ]
        }
      ]
    },
    {
      "cell_type": "markdown",
      "source": [
        "- Even if the max_tokens is set to 500, the model responces more longer detailed answers which is a little slower and costlier.\n",
        "- Temperature is set to 2, making the model more generate incoherent or offf-topic text."
      ],
      "metadata": {
        "id": "RsFNLrTb1deV"
      }
    },
    {
      "cell_type": "code",
      "source": [],
      "metadata": {
        "id": "pA6Ics9q-L0w"
      },
      "execution_count": 39,
      "outputs": []
    },
    {
      "cell_type": "markdown",
      "metadata": {
        "id": "dcphyqNO-MHs"
      },
      "source": [
        "### Query 3: What are the effective treatments or solutions for addressing sudden patchy hair loss, commonly seen as localized bald spots on the scalp, and what could be the possible causes behind it?"
      ]
    },
    {
      "cell_type": "code",
      "source": [
        "user_input = \" What are the effective treatments or solutions for addressing sudden patchy hair loss, commonly seen as localized bald spots on the scalp, and what could be the possible causes behind it? \"\n",
        "print(generate_rag_response(user_input, temperature=0.5, top_p=0.9, top_k=60, max_tokens=500))"
      ],
      "metadata": {
        "colab": {
          "base_uri": "https://localhost:8080/"
        },
        "outputId": "a808115d-00a8-4639-ded8-0d3d256b498c",
        "id": "IcdcmO0g-MHt"
      },
      "execution_count": 40,
      "outputs": [
        {
          "output_type": "stream",
          "name": "stderr",
          "text": [
            "Llama.generate: prefix-match hit\n"
          ]
        },
        {
          "output_type": "stream",
          "name": "stdout",
          "text": [
            "Based on the context provided, the condition being described is Alopecia Areata. The context mentions that this is a type of hair loss characterized by sudden, patchy hair loss in people with no obvious skin or systemic disorder. It also states that Alopecia Areata is thought to be an autoimmune disorder affecting genetically susceptible people exposed to unclear environmental triggers.\n",
            "\n",
            "The context does not provide information on specific treatments or solutions for Alopecia Areata, but it does mention that corticosteroids, retinoids, or immunosuppressants may be used for treating hair loss in general. Therefore, based on the context, I cannot provide a definitive answer to what the effective treatments or solutions are for addressing sudden patchy hair loss specifically caused by Alopecia Areata. However, I can suggest that these types of medications might be used as potential treatment options.\n",
            "\n",
            "As for possible causes behind sudden patchy hair loss, the context states that it is an autoimmune disorder affecting genetically susceptible people exposed to unclear environmental triggers.\n"
          ]
        }
      ]
    },
    {
      "cell_type": "markdown",
      "source": [
        "- Even if the max_tokens is set to 500, the model still didn't generate that many, as the query could be answered with a limited availiablity of inside the context."
      ],
      "metadata": {
        "id": "bweaS04a2hMU"
      }
    },
    {
      "cell_type": "markdown",
      "metadata": {
        "id": "9iXHE8iJ-MHt"
      },
      "source": [
        "### Query 4:  What treatments are recommended for a person who has sustained a physical injury to brain tissue, resulting in temporary or permanent impairment of brain function?"
      ]
    },
    {
      "cell_type": "code",
      "source": [
        "user_input = \" What treatments are recommended for a person who has sustained a physical injury to brain tissue, resulting in temporary or permanent impairment of brain function? \"\n",
        "print(generate_rag_response(user_input, temperature=0.3, top_p=0.2, top_k=15, max_tokens=150))"
      ],
      "metadata": {
        "colab": {
          "base_uri": "https://localhost:8080/"
        },
        "outputId": "b20340a5-4641-463a-d0bc-1998d62c629e",
        "id": "NVSz5M31-MHt"
      },
      "execution_count": 41,
      "outputs": [
        {
          "output_type": "stream",
          "name": "stderr",
          "text": [
            "Llama.generate: prefix-match hit\n"
          ]
        },
        {
          "output_type": "stream",
          "name": "stdout",
          "text": [
            "Answer: The initial treatment for a person with traumatic brain injury (TBI) includes ensuring a reliable airway and maintaining adequate ventilation, oxygenation, and blood pressure. Surgery may be needed in patients with more severe injuries to place monitors to track and treat intracranial pressure, decompress the brain if intracranial pressure is increased, or remove intracranial hematomas. In the first few days after the injury, maintaining adequate brain perfusion and oxygenation and preventing complications of altered sensorium are important. Subsequently, many patients require rehabilitation.\n"
          ]
        }
      ]
    },
    {
      "cell_type": "markdown",
      "source": [
        "- The temperature and others are set to less, making the model more deterministic and less creative."
      ],
      "metadata": {
        "id": "Il7BUInH23Oe"
      }
    },
    {
      "cell_type": "markdown",
      "metadata": {
        "id": "UTukKeV0-MHt"
      },
      "source": [
        "### Query 5: What are the necessary precautions and treatment steps for a person who has fractured their leg during a hiking trip, and what should be considered for their care and recovery?"
      ]
    },
    {
      "cell_type": "code",
      "source": [
        "user_input = \" What are the necessary precautions and treatment steps for a person who has fractured their leg during a hiking trip, and what should be considered for their care and recovery? \"\n",
        "print(generate_rag_response(user_input, temperature=1.5, top_p=0.7, top_k=40, max_tokens=250))"
      ],
      "metadata": {
        "colab": {
          "base_uri": "https://localhost:8080/"
        },
        "outputId": "7e613072-f495-42c1-9634-f7b774cf7265",
        "id": "6lfWt8Em-MHt"
      },
      "execution_count": 42,
      "outputs": [
        {
          "output_type": "stream",
          "name": "stderr",
          "text": [
            "Llama.generate: prefix-match hit\n"
          ]
        },
        {
          "output_type": "stream",
          "name": "stdout",
          "text": [
            "To answer this question, consider the following points from the context:\n",
            "1. The injured limb should be elevated above the heart for the first two days to minimize swelling and help drain edema fluid.\n",
            "2. After 48 hours, periodic application of warmth using a heating pad may relieve pain and speed up healing.\n",
            "3. Immobilization is important to prevent further injury and facilitate healing, but care should be taken to ensure joints proximal and distal to the injury are also immobilized.\n",
            "4. A cast is usually used for fractures or injuries that require weeks of immobilization. In severe cases where swelling may contribute to compartment syndrome, the cast (and all padding) may be cut open from end to end medially and laterally.\n",
            "5. Patients with casts should be given written instructions on how to care for their cast, including keeping it dry, never putting objects inside it, inspecting the edges and skin around the cast daily, and padding any rough edges to prevent irritation.\n"
          ]
        }
      ]
    },
    {
      "cell_type": "markdown",
      "metadata": {
        "id": "yyQrTipNfuBN"
      },
      "source": [
        "## Output Evaluation"
      ]
    },
    {
      "cell_type": "code",
      "source": [
        "groundedness_rater_system_message = \"\"\"\n",
        "You are tasked with rating AI generated answers to questions posed by users.\n",
        "You will be presented a question, context used by the AI system to generate the answer and an AI generated answer to the question.\n",
        "In the input, the question will begin with ###Question, the context will begin with ###Context while the AI generated answer will begin with ###Answer.\n",
        "\n",
        "Evaluation criteria:\n",
        "The task is to judge the extent to which the metric is followed by the answer.\n",
        "1 - The metric is not followed at all\n",
        "2 - The metric is followed only to a limited extent\n",
        "3 - The metric is followed to a good extent\n",
        "4 - The metric is followed mostly\n",
        "5 - The metric is followed completely\n",
        "\n",
        "Metric:\n",
        "The answer should be derived only from the information presented in the context\n",
        "\n",
        "Instructions:\n",
        "1. First write down the steps that are needed to evaluate the answer as per the metric.\n",
        "2. Give a step-by-step explanation if the answer adheres to the metric considering the question and context as the input.\n",
        "3. Next, evaluate the extent to which the metric is followed.\n",
        "4. Use the previous information to rate the answer using the evaluaton criteria and assign a score.\n",
        "\"\"\""
      ],
      "metadata": {
        "id": "IHbfLAxAGdhW"
      },
      "execution_count": 43,
      "outputs": []
    },
    {
      "cell_type": "code",
      "source": [
        "relevance_rater_system_message = \"\"\"\n",
        "You are tasked with rating AI generated answers to questions posed by users.\n",
        "You will be presented a question, context used by the AI system to generate the answer and an AI generated answer to the question.\n",
        "In the input, the question will begin with ###Question, the context will begin with ###Context while the AI generated answer will begin with ###Answer.\n",
        "\n",
        "Evaluation criteria:\n",
        "The task is to judge the extent to which the metric is followed by the answer.\n",
        "1 - The metric is not followed at all\n",
        "2 - The metric is followed only to a limited extent\n",
        "3 - The metric is followed to a good extent\n",
        "4 - The metric is followed mostly\n",
        "5 - The metric is followed completely\n",
        "\n",
        "Metric:\n",
        "Relevance measures how well the answer addresses the main aspects of the question, based on the context.\n",
        "Consider whether all and only the important aspects are contained in the answer when evaluating relevance.\n",
        "\n",
        "Instructions:\n",
        "1. First write down the steps that are needed to evaluate the context as per the metric.\n",
        "2. Give a step-by-step explanation if the context adheres to the metric considering the question as the input.\n",
        "3. Next, evaluate the extent to which the metric is followed.\n",
        "4. Use the previous information to rate the context using the evaluaton criteria and assign a score.\n",
        "\"\"\""
      ],
      "metadata": {
        "id": "159OZZa0Rinv"
      },
      "execution_count": 44,
      "outputs": []
    },
    {
      "cell_type": "code",
      "source": [
        "user_message_template = \"\"\"\n",
        "###Question\n",
        "{question}\n",
        "\n",
        "###Context\n",
        "{context}\n",
        "\n",
        "###Answer\n",
        "{answer}\n",
        "\"\"\""
      ],
      "metadata": {
        "id": "RLqiSn-iRwSl"
      },
      "execution_count": 45,
      "outputs": []
    },
    {
      "cell_type": "code",
      "source": [
        "def generate_ground_relevance_response(user_input,k=3,max_tokens=128,temperature=0,top_p=0.95,top_k=50):\n",
        "    global qna_system_message,qna_user_message_template\n",
        "    # Retrieve relevant document chunks\n",
        "    relevant_document_chunks = retriever.get_relevant_documents(query=user_input,k=3)\n",
        "    context_list = [d.page_content for d in relevant_document_chunks]\n",
        "    context_for_query = \". \".join(context_list)\n",
        "\n",
        "    # Combine user_prompt and system_message to create the prompt\n",
        "    prompt = f\"\"\"[INST]{qna_system_message}\\n\n",
        "                {'user'}: {qna_user_message_template.format(context=context_for_query, question=user_input)}\n",
        "                [/INST]\"\"\"\n",
        "\n",
        "    response = llm(\n",
        "            prompt=prompt,\n",
        "            max_tokens=max_tokens,\n",
        "            temperature=temperature,\n",
        "            top_p=top_p,\n",
        "            top_k=top_k,\n",
        "            stop=['INST'],\n",
        "            )\n",
        "\n",
        "    answer =  response[\"choices\"][0][\"text\"]\n",
        "\n",
        "    # Combine user_prompt and system_message to create the prompt\n",
        "    groundedness_prompt = f\"\"\"[INST]{groundedness_rater_system_message}\\n\n",
        "                {'user'}: {user_message_template.format(context=context_for_query, question=user_input, answer=answer)}\n",
        "                [/INST]\"\"\"\n",
        "\n",
        "    # Combine user_prompt and system_message to create the prompt\n",
        "    relevance_prompt = f\"\"\"[INST]{relevance_rater_system_message}\\n\n",
        "                {'user'}: {user_message_template.format(context=context_for_query, question=user_input, answer=answer)}\n",
        "                [/INST]\"\"\"\n",
        "\n",
        "    response_1 = llm(\n",
        "            prompt=groundedness_prompt,\n",
        "            max_tokens=max_tokens,\n",
        "            temperature=temperature,\n",
        "            top_p=top_p,\n",
        "            top_k=top_k,\n",
        "            stop=['INST'],\n",
        "            )\n",
        "\n",
        "    response_2 = llm(\n",
        "            prompt=relevance_prompt,\n",
        "            max_tokens=max_tokens,\n",
        "            temperature=temperature,\n",
        "            top_p=top_p,\n",
        "            top_k=top_k,\n",
        "            stop=['INST'],\n",
        "            )\n",
        "\n",
        "    return response_1['choices'][0]['text'],response_2['choices'][0]['text']"
      ],
      "metadata": {
        "id": "XIbZybyuRi2p"
      },
      "execution_count": 46,
      "outputs": []
    },
    {
      "cell_type": "code",
      "source": [],
      "metadata": {
        "id": "12WE6O9ZO7_n"
      },
      "execution_count": 46,
      "outputs": []
    },
    {
      "cell_type": "markdown",
      "source": [
        "## Fine-tuning Evaluating"
      ],
      "metadata": {
        "id": "rLibd_56O8O1"
      }
    },
    {
      "cell_type": "markdown",
      "metadata": {
        "id": "Kqi3_BsoO8O1"
      },
      "source": [
        "### Query 1: What is the protocol for managing sepsis in a critical care unit?"
      ]
    },
    {
      "cell_type": "code",
      "source": [
        "user_input = \" What is the protocol for managing sepsis in a critical care unit? \"\n",
        "#print(generate_rag_response(user_input, temperature=0, top_p=0, top_k=5, max_tokens=50))\n",
        "\n",
        "ground,rel = generate_ground_relevance_response(user_input, temperature=0, top_p=0, top_k=5, max_tokens=50)\n",
        "\n",
        "print(ground,end=\"\\n\\n\")\n",
        "print(rel)"
      ],
      "metadata": {
        "colab": {
          "base_uri": "https://localhost:8080/"
        },
        "outputId": "e39dbf1b-2d6f-4b20-d012-3dd5a3a778c8",
        "id": "ThdgQHSjO8O1"
      },
      "execution_count": 47,
      "outputs": [
        {
          "output_type": "stream",
          "name": "stderr",
          "text": [
            "Llama.generate: prefix-match hit\n",
            "Llama.generate: prefix-match hit\n",
            "Llama.generate: prefix-match hit\n"
          ]
        },
        {
          "output_type": "stream",
          "name": "stdout",
          "text": [
            " Steps to evaluate the answer:\n",
            "1. Identify if the answer is derived only from the information presented in the context.\n",
            "2. Check if the context contains any information related to the protocol for managing sepsis in a critical care unit\n",
            "\n",
            " Steps to evaluate the context as per the relevance metric:\n",
            "1. Identify the main aspects of the question, which are \"managing sepsis in a critical care unit.\"\n",
            "2. Search through the context for any information related\n"
          ]
        }
      ]
    },
    {
      "cell_type": "markdown",
      "metadata": {
        "id": "ILZnD81CO8O2"
      },
      "source": [
        "### Query 2: What are the common symptoms for appendicitis, and can it be cured via medicine? If not, what surgical procedure should be followed to treat it?"
      ]
    },
    {
      "cell_type": "code",
      "source": [
        "user_input = \" What are the common symptoms for appendicitis, and can it be cured via medicine? If not, what surgical procedure should be followed to treat it? \"\n",
        "#print(generate_rag_response(user_input, temperature=2, top_p=1, top_k=70, max_tokens=500))\n",
        "\n",
        "ground,rel = generate_ground_relevance_response(user_input, temperature=2, top_p=1, top_k=70, max_tokens=250)\n",
        "\n",
        "print(ground,end=\"\\n\\n\")\n",
        "print(rel)"
      ],
      "metadata": {
        "colab": {
          "base_uri": "https://localhost:8080/"
        },
        "outputId": "4f4dbbf2-70b7-4592-9590-a327b1363aef",
        "id": "4AMPc90kO8O2"
      },
      "execution_count": 48,
      "outputs": [
        {
          "output_type": "stream",
          "name": "stderr",
          "text": [
            "Llama.generate: prefix-match hit\n",
            "Llama.generate: prefix-match hit\n",
            "Llama.generate: prefix-match hit\n"
          ]
        },
        {
          "output_type": "stream",
          "name": "stdout",
          "text": [
            " Step 1: Identify the main components of the question and context.question components: 1. \"What are the common symptoms for appendicitis?” - A descriptive question asks for information about Appendicitis symptoms2. \"Can it be cured via medicine?” - Inquiry into curability via medical treatment3. \"If not, what surgical procedure should be followed to treat it?” -query with regard to alternative therapeutic procedures context components:1- Information on treatment options & processes for appendicitis (open or laparoscopic appendectomy), requirements and decision making considerations surrounding antbitiotics prescriptions2. Different approaches to performing an appendectomy if the condition worsens (\"In late cases with periocolic abscess etc\")3- Other health conditions such as inflamtory bowel disease contrindicating a potentially definitive surgical process (appendectomy)but may indicate treatments varying based-on given medical context\n",
            "\n",
            "Analyzing:\n",
            "Despite some commonalities in vocabulary usage from both the question phrases \"symptoms,\" \"common\", \"can it be cured\" and information found under point 1 within the text [\"These symptoms\n",
            "\n",
            " Steps for evaluating context based on relevance metric:\n",
            "1. Identify if the text mention relevant symmetricities: Here it should talk about symptoms of appendicitis and treatment alternatives to address user question (\"What are the commonsymptoms for appendicitis, and can it be cured via medicine?\" and \"Ifnot, what surgical procedure should be followed to treat it?\").\n",
            "2. Identify the part of text that meets user'sspecific request: Symptom Descriptorsion(pain,locations, and accompanying conditions), treatment alternative suggestions(suchas anti-bidtoticsandremoveraffairrelatedmaterials). A descriptive section forhernias unrelatedtotheregivenquestionshould be ignored during analysis.\n",
            "\n",
            "###context providesrelevant information toward the provided question:\n",
            "The context explicitly explains relevant contents such as various signs of appendicitis, the requirement of timely surgical operation using IV antibioctics forproperpreparation, survival implications(lowlife-threatensituations when appendicallyinfections arenertreated appropriately), medical terminologies (anencexdotasis; inflammationfollowed invasion into acavity etc.)\n"
          ]
        }
      ]
    },
    {
      "cell_type": "code",
      "source": [],
      "metadata": {
        "id": "Nu0CgXVdO8O2"
      },
      "execution_count": 48,
      "outputs": []
    },
    {
      "cell_type": "markdown",
      "metadata": {
        "id": "1psLXOtaO8O2"
      },
      "source": [
        "### Query 3: What are the effective treatments or solutions for addressing sudden patchy hair loss, commonly seen as localized bald spots on the scalp, and what could be the possible causes behind it?"
      ]
    },
    {
      "cell_type": "code",
      "source": [
        "user_input = \" What are the effective treatments or solutions for addressing sudden patchy hair loss, commonly seen as localized bald spots on the scalp, and what could be the possible causes behind it? \"\n",
        "#print(generate_rag_response(user_input, temperature=0.5, top_p=0.9, top_k=60, max_tokens=500))\n",
        "\n",
        "ground,rel = generate_ground_relevance_response(user_input, temperature=0.5, top_p=0.9, top_k=60, max_tokens=500)\n",
        "\n",
        "print(ground,end=\"\\n\\n\")\n",
        "print(rel)"
      ],
      "metadata": {
        "colab": {
          "base_uri": "https://localhost:8080/"
        },
        "outputId": "f5aab0b7-e3a4-4d3c-e837-ea773a4fdc45",
        "id": "g0x91X36O8O2"
      },
      "execution_count": 49,
      "outputs": [
        {
          "output_type": "stream",
          "name": "stderr",
          "text": [
            "Llama.generate: prefix-match hit\n",
            "Llama.generate: prefix-match hit\n",
            "Llama.generate: prefix-match hit\n"
          ]
        },
        {
          "output_type": "stream",
          "name": "stdout",
          "text": [
            " Steps to evaluate the answer:\n",
            "1. Identify the information in the context related to effective treatments or solutions for sudden patchy hair loss.\n",
            "2. Determine if the AI generated answer only includes information derived from the context.\n",
            "3. Check if any additional information not present in the context is included in the answer.\n",
            "\n",
            "Explanation:\n",
            "The AI generated answer mentions that corticosteroids, retinoids, or immunosuppressants are effective treatments for sudden patchy hair loss, which is consistent with the information provided in the context. Additionally, it explains that these treatments help reduce inflammation and suppress the immune system's attack on the hair follicles, further elaborating on how they work to address the issue. The answer also mentions that microscopic hair examination or scalp biopsy may be required for definitive diagnosis, which is also present in the context.\n",
            "\n",
            "Therefore, based on the given information, it can be concluded that the AI generated answer adheres to the metric and follows the information presented in the context completely.\n",
            "\n",
            "Rating:\n",
            "5 - The metric is followed completely.\n",
            "\n",
            " Steps to evaluate the context as per the relevance metric:\n",
            "1. Identify the main aspects of the question: effective treatments or solutions for sudden patchy hair loss and possible causes.\n",
            "2. Determine if all important aspects are covered in the context:\n",
            "   a. Yes, the context provides information on treatments (corticosteroids, retinoids, immunosuppressants) for sudden patchy hair loss.\n",
            "   b. Yes, the context mentions possible causes (autoimmune disorder, environmental triggers).\n",
            "3. Check if only important aspects are contained in the context:\n",
            "   a. Yes, the context does not include irrelevant information.\n",
            "\n",
            "The context adheres to the relevance metric as it addresses all and only the important aspects of the question based on the provided context. The metric is followed completely.\n",
            "\n",
            "Rating: 5 (Followed completely)\n"
          ]
        }
      ]
    },
    {
      "cell_type": "markdown",
      "source": [
        "- It got a perfect score because the response is both grounded in the context and relevant to the query."
      ],
      "metadata": {
        "id": "PN9svU4I3frE"
      }
    },
    {
      "cell_type": "markdown",
      "metadata": {
        "id": "STR6i__PO8O2"
      },
      "source": [
        "### Query 4:  What treatments are recommended for a person who has sustained a physical injury to brain tissue, resulting in temporary or permanent impairment of brain function?"
      ]
    },
    {
      "cell_type": "code",
      "source": [
        "user_input = \" What treatments are recommended for a person who has sustained a physical injury to brain tissue, resulting in temporary or permanent impairment of brain function? \"\n",
        "#print(generate_rag_response(user_input, temperature=0.3, top_p=0.2, top_k=15, max_tokens=150))\n",
        "\n",
        "ground,rel = generate_ground_relevance_response(user_input, temperature=0.3, top_p=0.2, top_k=15, max_tokens=150)\n",
        "\n",
        "print(ground,end=\"\\n\\n\")\n",
        "print(rel)"
      ],
      "metadata": {
        "colab": {
          "base_uri": "https://localhost:8080/"
        },
        "outputId": "62d95a5d-b0cb-4b4e-f20b-7b72e8734f17",
        "id": "TzeJSkQ5O8O3"
      },
      "execution_count": 50,
      "outputs": [
        {
          "output_type": "stream",
          "name": "stderr",
          "text": [
            "Llama.generate: prefix-match hit\n",
            "Llama.generate: prefix-match hit\n",
            "Llama.generate: prefix-match hit\n"
          ]
        },
        {
          "output_type": "stream",
          "name": "stdout",
          "text": [
            " Steps to evaluate the answer:\n",
            "1. Identify the key information in the context related to treatments for a person with a traumatic brain injury (TBI).\n",
            "2. Compare the identified information with the AI generated answer to check if the answer is derived only from the context.\n",
            "3. Evaluate the extent to which the metric is followed.\n",
            "\n",
            "Explanation:\n",
            "The context provides information about the initial treatment for a person with a TBI, including ensuring a reliable airway, maintaining adequate ventilation, oxygenation, and blood pressure, and the possibility of surgery in more severe cases. The AI generated answer matches this information exactly, stating that the initial treatment includes these steps and that surgery may be needed in\n",
            "\n",
            " Steps to evaluate the context as per the relevance metric:\n",
            "1. Identify the main aspects of the question: The question asks about treatments for a person with a brain injury that results in temporary or permanent impairment of brain function.\n",
            "2. Determine if the context covers all important aspects: The context discusses the diagnosis, initial treatment, and subsequent care for a person with a traumatic brain injury (TBI), including surgery, maintaining adequate brain perfusion and oxygenation, preventing complications, and rehabilitation. It also mentions that TBIs can be caused by various means and have varying clinical manifestations.\n",
            "3. Evaluate the extent to which the context adheres to the metric:\n"
          ]
        }
      ]
    },
    {
      "cell_type": "markdown",
      "metadata": {
        "id": "7nfS9nDsO8O3"
      },
      "source": [
        "### Query 5: What are the necessary precautions and treatment steps for a person who has fractured their leg during a hiking trip, and what should be considered for their care and recovery?"
      ]
    },
    {
      "cell_type": "code",
      "source": [
        "user_input = \" What are the necessary precautions and treatment steps for a person who has fractured their leg during a hiking trip, and what should be considered for their care and recovery? \"\n",
        "#print(generate_rag_response(user_input, temperature=1.5, top_p=0.7, top_k=40, max_tokens=250))\n",
        "\n",
        "#ground,rel = generate_ground_relevance_response(user_input, temperature=1.5, top_p=0.7, top_k=40, max_tokens=250)\n",
        "ground,rel = generate_ground_relevance_response(user_input, max_tokens=250)\n",
        "\n",
        "print(ground,end=\"\\n\\n\")\n",
        "print(rel)"
      ],
      "metadata": {
        "colab": {
          "base_uri": "https://localhost:8080/"
        },
        "outputId": "187e9307-a710-4be5-8db0-79ee3e7248a4",
        "id": "6mT3mHXaO8O3"
      },
      "execution_count": 51,
      "outputs": [
        {
          "output_type": "stream",
          "name": "stderr",
          "text": [
            "Llama.generate: prefix-match hit\n",
            "Llama.generate: prefix-match hit\n",
            "Llama.generate: prefix-match hit\n"
          ]
        },
        {
          "output_type": "stream",
          "name": "stdout",
          "text": [
            " Steps to evaluate the answer:\n",
            "1. Identify the information in the context that relates to the necessary precautions and treatment steps for a person with a fractured leg.\n",
            "2. Compare the information identified in step 1 to the AI generated answer to ensure that all elements of the answer are derived from the context.\n",
            "3. Evaluate the extent to which the metric is followed by checking if there is any additional or extraneous information in the answer that is not present in the context.\n",
            "\n",
            "Explanation:\n",
            "The AI generated answer includes all the necessary precautions and treatment steps for a person with a fractured leg as presented in the context. The answer accurately states that the injured limb should be elevated above heart level for the first two days, application of warmth with a heating pad after 48 hours, immobilization of joints proximal and distal to the injury, and instructions for patients with casts such as keeping it dry, never putting objects inside it, inspecting edges and skin daily, and padding any rough edges. Therefore, the answer adheres to the metric as all information is derived directly from the context.\n",
            "\n",
            "Rating:\n",
            "Based on\n",
            "\n",
            " Steps to evaluate context as per relevance metric:\n",
            "1. Identify the main aspects of the question: necessary precautions and treatment steps for a person with a fractured leg, and what should be considered for their care and recovery.\n",
            "2. Determine if each piece of information in the context addresses these main aspects.\n",
            "3. Check if all important aspects are included in the context and if any irrelevant information is excluded.\n",
            "\n",
            "The context adheres to the metric considering the question as follows:\n",
            "1. The context provides necessary precautions such as elevating the injured limb above heart level, applying warmth with a heating pad after 48 hours, and immobilizing joints proximal and distal to the injury.\n",
            "2. It also mentions treatment steps like using a cast for fractures requiring weeks of immobilization and instructions for patients with casts.\n",
            "3. All important aspects are included in the context, such as minimizing swelling, relieving pain, preventing further injury, and ensuring proper care and recovery for a person with a fractured leg.\n",
            "\n",
            "The metric is followed mostly since all main aspects of the question are addressed, but some additional information about the\n"
          ]
        }
      ]
    },
    {
      "cell_type": "markdown",
      "metadata": {
        "id": "Y7QICRU-njdj"
      },
      "source": [
        "## Actionable Insights and Business Recommendations"
      ]
    },
    {
      "cell_type": "markdown",
      "source": [
        "- The time required to build a vector database scales with the number of pages in a PDF file—larger documents take longer to process.\n",
        "\n",
        "- The retrieval setting k plays a vital role in capturing comprehensive answers, especially when relevant content is distributed across several sections.\n",
        "\n",
        "- To maintain contextual flow between text segments, using chunk_overlap is essential.\n",
        "\n",
        "- The max_tokens parameter should be aligned with query complexity—complex queries benefit from a higher limit, whereas simple queries tend to yield brief responses regardless of the token ceiling, particularly when using a zero temperature setting.\n",
        "\n",
        "- Effective management of prompt structure and temperature values helps fine-tune response length and originality.\n",
        "\n",
        "- Continuously calibrate Retrieval-Augmented Generation (RAG) parameters to match the unique requirements of different scenarios for best results.\n",
        "\n",
        "- Emphasize accuracy and contextual relevance when evaluating outputs to ensure dependable responses.\n",
        "\n",
        "- Implement a feedback mechanism to iteratively optimize parameters, enhancing system performance across various query formats."
      ],
      "metadata": {
        "id": "TvIxTpN7mgRU"
      }
    },
    {
      "cell_type": "markdown",
      "metadata": {
        "id": "ybRlzaIhWaM9"
      },
      "source": [
        "<font size=6 color='blue'>Power Ahead</font>\n",
        "___"
      ]
    }
  ],
  "metadata": {
    "accelerator": "GPU",
    "colab": {
      "collapsed_sections": [
        "yyQrTipNfuBN"
      ],
      "gpuType": "T4",
      "provenance": []
    },
    "kernel_info": {
      "name": "python310-sdkv2"
    },
    "kernelspec": {
      "display_name": "Python 3",
      "name": "python3"
    },
    "language_info": {
      "name": "python"
    },
    "microsoft": {
      "host": {
        "AzureML": {
          "notebookHasBeenCompleted": true
        }
      },
      "ms_spell_check": {
        "ms_spell_check_language": "en"
      }
    },
    "nteract": {
      "version": "nteract-front-end@1.0.0"
    }
  },
  "nbformat": 4,
  "nbformat_minor": 0
}